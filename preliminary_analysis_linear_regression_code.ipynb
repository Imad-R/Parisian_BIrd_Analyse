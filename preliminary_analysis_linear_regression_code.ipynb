{
 "cells": [
  {
   "cell_type": "markdown",
   "id": "bf10d0d3",
   "metadata": {},
   "source": [
    "# <span style=\"color: red\">Jeu de donnée</span>"
   ]
  },
  {
   "cell_type": "markdown",
   "id": "2c9c0481",
   "metadata": {},
   "source": [
    "<h1 style=\"color:orange\">Le code est à exécuter dans l'ordre !!!</h1>"
   ]
  },
  {
   "cell_type": "code",
   "execution_count": 71,
   "id": "bf30fd9e",
   "metadata": {},
   "outputs": [],
   "source": [
    "#Importation des library\n",
    "import matplotlib.pyplot as plt\n",
    "import pandas as pd\n",
    "import itertools\n",
    "from matplotlib.pyplot import figure\n",
    "import random\n",
    "import numpy as np\n",
    "from scipy.stats import t\n",
    "#Importation de la librairie statsmodels qui permet de faire une régression automatiquement\n",
    "import statsmodels.api as sm"
   ]
  },
  {
   "cell_type": "code",
   "execution_count": 72,
   "id": "729a1f50",
   "metadata": {
    "scrolled": false
   },
   "outputs": [
    {
     "data": {
      "text/html": [
       "<div>\n",
       "<style scoped>\n",
       "    .dataframe tbody tr th:only-of-type {\n",
       "        vertical-align: middle;\n",
       "    }\n",
       "\n",
       "    .dataframe tbody tr th {\n",
       "        vertical-align: top;\n",
       "    }\n",
       "\n",
       "    .dataframe thead th {\n",
       "        text-align: right;\n",
       "    }\n",
       "</style>\n",
       "<table border=\"1\" class=\"dataframe\">\n",
       "  <thead>\n",
       "    <tr style=\"text-align: right;\">\n",
       "      <th></th>\n",
       "      <th>Accenteur mouchet</th>\n",
       "      <th>Corneille noire</th>\n",
       "      <th>Fauvette à tête noire</th>\n",
       "      <th>Geai des chênes</th>\n",
       "      <th>Goéland argenté</th>\n",
       "      <th>Grimpereau des jardins</th>\n",
       "      <th>Grive musicienne</th>\n",
       "      <th>Merle noir</th>\n",
       "      <th>Mésange bleue</th>\n",
       "      <th>Mésange charbonnière</th>\n",
       "      <th>...</th>\n",
       "      <th>Pigeon biset</th>\n",
       "      <th>Pigeon ramier</th>\n",
       "      <th>Pinson des arbres</th>\n",
       "      <th>Pouillot véloce</th>\n",
       "      <th>Roitelet huppé</th>\n",
       "      <th>Roitelet à triple bandeau</th>\n",
       "      <th>Rougegorge familier</th>\n",
       "      <th>Sittelle torchepot</th>\n",
       "      <th>Troglodyte mignon</th>\n",
       "      <th>Étourneau sansonnet</th>\n",
       "    </tr>\n",
       "    <tr>\n",
       "      <th>Mois</th>\n",
       "      <th></th>\n",
       "      <th></th>\n",
       "      <th></th>\n",
       "      <th></th>\n",
       "      <th></th>\n",
       "      <th></th>\n",
       "      <th></th>\n",
       "      <th></th>\n",
       "      <th></th>\n",
       "      <th></th>\n",
       "      <th></th>\n",
       "      <th></th>\n",
       "      <th></th>\n",
       "      <th></th>\n",
       "      <th></th>\n",
       "      <th></th>\n",
       "      <th></th>\n",
       "      <th></th>\n",
       "      <th></th>\n",
       "      <th></th>\n",
       "      <th></th>\n",
       "    </tr>\n",
       "  </thead>\n",
       "  <tbody>\n",
       "    <tr>\n",
       "      <th>janvier</th>\n",
       "      <td>1</td>\n",
       "      <td>22</td>\n",
       "      <td>0</td>\n",
       "      <td>4</td>\n",
       "      <td>0</td>\n",
       "      <td>3</td>\n",
       "      <td>1</td>\n",
       "      <td>22</td>\n",
       "      <td>16</td>\n",
       "      <td>22</td>\n",
       "      <td>...</td>\n",
       "      <td>1</td>\n",
       "      <td>37</td>\n",
       "      <td>3</td>\n",
       "      <td>0</td>\n",
       "      <td>4</td>\n",
       "      <td>0</td>\n",
       "      <td>14</td>\n",
       "      <td>0</td>\n",
       "      <td>5</td>\n",
       "      <td>33</td>\n",
       "    </tr>\n",
       "    <tr>\n",
       "      <th>fevrier</th>\n",
       "      <td>1</td>\n",
       "      <td>9</td>\n",
       "      <td>0</td>\n",
       "      <td>3</td>\n",
       "      <td>0</td>\n",
       "      <td>4</td>\n",
       "      <td>1</td>\n",
       "      <td>13</td>\n",
       "      <td>7</td>\n",
       "      <td>9</td>\n",
       "      <td>...</td>\n",
       "      <td>1</td>\n",
       "      <td>8</td>\n",
       "      <td>3</td>\n",
       "      <td>1</td>\n",
       "      <td>2</td>\n",
       "      <td>0</td>\n",
       "      <td>6</td>\n",
       "      <td>2</td>\n",
       "      <td>4</td>\n",
       "      <td>7</td>\n",
       "    </tr>\n",
       "    <tr>\n",
       "      <th>mars</th>\n",
       "      <td>0</td>\n",
       "      <td>25</td>\n",
       "      <td>6</td>\n",
       "      <td>2</td>\n",
       "      <td>1</td>\n",
       "      <td>7</td>\n",
       "      <td>3</td>\n",
       "      <td>24</td>\n",
       "      <td>16</td>\n",
       "      <td>12</td>\n",
       "      <td>...</td>\n",
       "      <td>17</td>\n",
       "      <td>24</td>\n",
       "      <td>11</td>\n",
       "      <td>3</td>\n",
       "      <td>1</td>\n",
       "      <td>2</td>\n",
       "      <td>9</td>\n",
       "      <td>2</td>\n",
       "      <td>10</td>\n",
       "      <td>16</td>\n",
       "    </tr>\n",
       "    <tr>\n",
       "      <th>avril</th>\n",
       "      <td>3</td>\n",
       "      <td>7</td>\n",
       "      <td>8</td>\n",
       "      <td>2</td>\n",
       "      <td>0</td>\n",
       "      <td>2</td>\n",
       "      <td>0</td>\n",
       "      <td>12</td>\n",
       "      <td>7</td>\n",
       "      <td>4</td>\n",
       "      <td>...</td>\n",
       "      <td>3</td>\n",
       "      <td>10</td>\n",
       "      <td>3</td>\n",
       "      <td>2</td>\n",
       "      <td>0</td>\n",
       "      <td>1</td>\n",
       "      <td>1</td>\n",
       "      <td>0</td>\n",
       "      <td>5</td>\n",
       "      <td>35</td>\n",
       "    </tr>\n",
       "    <tr>\n",
       "      <th>mai</th>\n",
       "      <td>0</td>\n",
       "      <td>7</td>\n",
       "      <td>10</td>\n",
       "      <td>1</td>\n",
       "      <td>0</td>\n",
       "      <td>5</td>\n",
       "      <td>0</td>\n",
       "      <td>24</td>\n",
       "      <td>4</td>\n",
       "      <td>2</td>\n",
       "      <td>...</td>\n",
       "      <td>8</td>\n",
       "      <td>9</td>\n",
       "      <td>6</td>\n",
       "      <td>4</td>\n",
       "      <td>0</td>\n",
       "      <td>0</td>\n",
       "      <td>11</td>\n",
       "      <td>0</td>\n",
       "      <td>7</td>\n",
       "      <td>48</td>\n",
       "    </tr>\n",
       "  </tbody>\n",
       "</table>\n",
       "<p>5 rows × 27 columns</p>\n",
       "</div>"
      ],
      "text/plain": [
       "         Accenteur mouchet  Corneille noire  Fauvette à tête noire  \\\n",
       "Mois                                                                 \n",
       "janvier                  1               22                      0   \n",
       "fevrier                  1                9                      0   \n",
       "mars                     0               25                      6   \n",
       "avril                    3                7                      8   \n",
       "mai                      0                7                     10   \n",
       "\n",
       "         Geai des chênes  Goéland argenté  Grimpereau des jardins  \\\n",
       "Mois                                                                \n",
       "janvier                4                0                       3   \n",
       "fevrier                3                0                       4   \n",
       "mars                   2                1                       7   \n",
       "avril                  2                0                       2   \n",
       "mai                    1                0                       5   \n",
       "\n",
       "         Grive musicienne  Merle noir  Mésange bleue  Mésange charbonnière  \\\n",
       "Mois                                                                         \n",
       "janvier                 1          22             16                    22   \n",
       "fevrier                 1          13              7                     9   \n",
       "mars                    3          24             16                    12   \n",
       "avril                   0          12              7                     4   \n",
       "mai                     0          24              4                     2   \n",
       "\n",
       "         ...  Pigeon biset  Pigeon ramier  Pinson des arbres  Pouillot véloce  \\\n",
       "Mois     ...                                                                    \n",
       "janvier  ...             1             37                  3                0   \n",
       "fevrier  ...             1              8                  3                1   \n",
       "mars     ...            17             24                 11                3   \n",
       "avril    ...             3             10                  3                2   \n",
       "mai      ...             8              9                  6                4   \n",
       "\n",
       "         Roitelet huppé  Roitelet à triple bandeau  Rougegorge familier  \\\n",
       "Mois                                                                      \n",
       "janvier               4                          0                   14   \n",
       "fevrier               2                          0                    6   \n",
       "mars                  1                          2                    9   \n",
       "avril                 0                          1                    1   \n",
       "mai                   0                          0                   11   \n",
       "\n",
       "         Sittelle torchepot  Troglodyte mignon  Étourneau sansonnet  \n",
       "Mois                                                                 \n",
       "janvier                   0                  5                   33  \n",
       "fevrier                   2                  4                    7  \n",
       "mars                      2                 10                   16  \n",
       "avril                     0                  5                   35  \n",
       "mai                       0                  7                   48  \n",
       "\n",
       "[5 rows x 27 columns]"
      ]
     },
     "execution_count": 72,
     "metadata": {},
     "output_type": "execute_result"
    }
   ],
   "source": [
    "#Importation du fichier de données\n",
    "data= pd.read_csv(\"data.csv\", sep=\",\", index_col=0)\n",
    "\n",
    "#stockage des noms des colonnes\n",
    "keys = data.keys()\n",
    "\n",
    "ind = data.index\n",
    "\n",
    "shape = data.shape\n",
    "\n",
    "#Affichage des 5 premières lignes\n",
    "data.head()"
   ]
  },
  {
   "cell_type": "markdown",
   "id": "0b1465fb",
   "metadata": {},
   "source": [
    "# <span style=\"color: red\">Analyse préliminaire : statistiques descriptives</span>"
   ]
  },
  {
   "cell_type": "markdown",
   "id": "12aaf303",
   "metadata": {},
   "source": [
    "## 1.a) Combien d’individus, toutes espèces confondues et d’espèces différentes ont été observés dans le parc ?"
   ]
  },
  {
   "cell_type": "code",
   "execution_count": 73,
   "id": "21a19860",
   "metadata": {},
   "outputs": [
    {
     "name": "stdout",
     "output_type": "stream",
     "text": [
      "Il y'a eu au total 1672 oiseaux observés et repartis sur 27  espèces.\n"
     ]
    }
   ],
   "source": [
    "#Pour connaître le nombre d'individus sans distinction de l'espèce\n",
    "compteur = 0\n",
    "\n",
    "for i in keys:\n",
    "    compteur+=sum(data[i])\n",
    "    \n",
    "print(\"Il y'a eu au total \" +str(compteur)+\" oiseaux observés et repartis sur\", shape[1],\" espèces.\")"
   ]
  },
  {
   "cell_type": "code",
   "execution_count": 74,
   "id": "b6c7f4fa",
   "metadata": {
    "scrolled": true
   },
   "outputs": [
    {
     "data": {
      "text/plain": [
       "{'Accenteur mouchet': 14,\n",
       " 'Corneille noire': 161,\n",
       " 'Fauvette à tête noire': 41,\n",
       " 'Geai des chênes': 25,\n",
       " 'Goéland argenté': 1,\n",
       " 'Grimpereau des jardins': 44,\n",
       " 'Grive musicienne': 6,\n",
       " 'Merle noir': 179,\n",
       " 'Mésange bleue': 100,\n",
       " 'Mésange charbonnière': 88,\n",
       " 'Mésange huppée': 2,\n",
       " 'Mésange noire': 1,\n",
       " 'Mésange à longue queue': 22,\n",
       " 'Perruche à collier': 99,\n",
       " 'Pic vert': 26,\n",
       " 'Pic épeiche': 2,\n",
       " 'Pie bavarde': 75,\n",
       " 'Pigeon biset': 63,\n",
       " 'Pigeon ramier': 232,\n",
       " 'Pinson des arbres': 39,\n",
       " 'Pouillot véloce': 14,\n",
       " 'Roitelet huppé': 17,\n",
       " 'Roitelet à triple bandeau': 15,\n",
       " 'Rougegorge familier': 102,\n",
       " 'Sittelle torchepot': 12,\n",
       " 'Troglodyte mignon': 61,\n",
       " 'Étourneau sansonnet': 231}"
      ]
     },
     "execution_count": 74,
     "metadata": {},
     "output_type": "execute_result"
    }
   ],
   "source": [
    "#Pour connaître cette fois-ci le nombre d'individus par espèces\n",
    "\n",
    "ind_per_species = {}\n",
    "\n",
    "for i in keys :\n",
    "    ind_per_species[i] = sum(data[i])\n",
    "    \n",
    "ind_per_species"
   ]
  },
  {
   "cell_type": "markdown",
   "id": "6217b607",
   "metadata": {},
   "source": [
    "## 1.b) Quelle espèce a été la plus observée dans l’année ? Quelle espèce a été la moins observée dans l’année ? Pour chacune de ces deux espèces, combien d’individus ont été comptabilisés ?"
   ]
  },
  {
   "cell_type": "code",
   "execution_count": 75,
   "id": "bf809a8e",
   "metadata": {},
   "outputs": [
    {
     "name": "stdout",
     "output_type": "stream",
     "text": [
      "L'espèce la plus observée est le Pigeon ramier avec 232 observations.\n"
     ]
    }
   ],
   "source": [
    "#L'espèce la plus observé dans l'année\n",
    "\n",
    "print(\"L'espèce la plus observée est le \" +max(ind_per_species, key=ind_per_species.get)+\" avec \"+str(ind_per_species[max(ind_per_species, key=ind_per_species.get)])+\" observations.\")"
   ]
  },
  {
   "cell_type": "code",
   "execution_count": 76,
   "id": "9dcf2340",
   "metadata": {},
   "outputs": [
    {
     "name": "stdout",
     "output_type": "stream",
     "text": [
      "L'espèce la moins observée est le Goéland argenté avec 1 observation.\n"
     ]
    }
   ],
   "source": [
    "#L'espèce la moins observée dans l'année\n",
    "\n",
    "print(\"L'espèce la moins observée est le \" +min(ind_per_species, key=ind_per_species.get)+\" avec \"+str(ind_per_species[min(ind_per_species, key=ind_per_species.get)])+\" observation.\")"
   ]
  },
  {
   "cell_type": "markdown",
   "id": "99f4a8bd",
   "metadata": {},
   "source": [
    "## 2.a) Certaines valeurs sont égales à 0 dans votre fichier. Interprétez."
   ]
  },
  {
   "cell_type": "markdown",
   "id": "10e717f4",
   "metadata": {},
   "source": [
    "### Une valeur égale à 0 s'interprète comme : \"Cette espèce n'a pas été observé pour le mois X de l'année 2023.\""
   ]
  },
  {
   "cell_type": "markdown",
   "id": "18050372",
   "metadata": {},
   "source": [
    "## 2.b) Combien de mois et d’espèces différentes sont concernés ? "
   ]
  },
  {
   "cell_type": "code",
   "execution_count": 77,
   "id": "2241e9fe",
   "metadata": {},
   "outputs": [
    {
     "name": "stdout",
     "output_type": "stream",
     "text": [
      "L'espèce 'Fauvette à tête noire' n'a pas été repérée en 'janvier'\n",
      "L'espèce 'Goéland argenté' n'a pas été repérée en 'janvier'\n",
      "L'espèce 'Mésange huppée' n'a pas été repérée en 'janvier'\n",
      "L'espèce 'Mésange noire' n'a pas été repérée en 'janvier'\n",
      "L'espèce 'Pic épeiche' n'a pas été repérée en 'janvier'\n",
      "L'espèce 'Pouillot véloce' n'a pas été repérée en 'janvier'\n",
      "L'espèce 'Roitelet à triple bandeau' n'a pas été repérée en 'janvier'\n",
      "L'espèce 'Sittelle torchepot' n'a pas été repérée en 'janvier'\n",
      "L'espèce 'Fauvette à tête noire' n'a pas été repérée en 'fevrier'\n",
      "L'espèce 'Goéland argenté' n'a pas été repérée en 'fevrier'\n",
      "L'espèce 'Mésange huppée' n'a pas été repérée en 'fevrier'\n",
      "L'espèce 'Mésange noire' n'a pas été repérée en 'fevrier'\n",
      "L'espèce 'Pic épeiche' n'a pas été repérée en 'fevrier'\n",
      "L'espèce 'Roitelet à triple bandeau' n'a pas été repérée en 'fevrier'\n",
      "L'espèce 'Accenteur mouchet' n'a pas été repérée en 'mars'\n",
      "L'espèce 'Mésange huppée' n'a pas été repérée en 'mars'\n",
      "L'espèce 'Mésange noire' n'a pas été repérée en 'mars'\n",
      "L'espèce 'Mésange à longue queue' n'a pas été repérée en 'mars'\n",
      "L'espèce 'Pic épeiche' n'a pas été repérée en 'mars'\n",
      "L'espèce 'Goéland argenté' n'a pas été repérée en 'avril'\n",
      "L'espèce 'Grive musicienne' n'a pas été repérée en 'avril'\n",
      "L'espèce 'Mésange huppée' n'a pas été repérée en 'avril'\n",
      "L'espèce 'Mésange noire' n'a pas été repérée en 'avril'\n",
      "L'espèce 'Mésange à longue queue' n'a pas été repérée en 'avril'\n",
      "L'espèce 'Pic épeiche' n'a pas été repérée en 'avril'\n",
      "L'espèce 'Roitelet huppé' n'a pas été repérée en 'avril'\n",
      "L'espèce 'Sittelle torchepot' n'a pas été repérée en 'avril'\n",
      "L'espèce 'Accenteur mouchet' n'a pas été repérée en 'mai'\n",
      "L'espèce 'Goéland argenté' n'a pas été repérée en 'mai'\n",
      "L'espèce 'Grive musicienne' n'a pas été repérée en 'mai'\n",
      "L'espèce 'Mésange huppée' n'a pas été repérée en 'mai'\n",
      "L'espèce 'Mésange noire' n'a pas été repérée en 'mai'\n",
      "L'espèce 'Mésange à longue queue' n'a pas été repérée en 'mai'\n",
      "L'espèce 'Pic épeiche' n'a pas été repérée en 'mai'\n",
      "L'espèce 'Roitelet huppé' n'a pas été repérée en 'mai'\n",
      "L'espèce 'Roitelet à triple bandeau' n'a pas été repérée en 'mai'\n",
      "L'espèce 'Sittelle torchepot' n'a pas été repérée en 'mai'\n",
      "L'espèce 'Accenteur mouchet' n'a pas été repérée en 'juin'\n",
      "L'espèce 'Goéland argenté' n'a pas été repérée en 'juin'\n",
      "L'espèce 'Grive musicienne' n'a pas été repérée en 'juin'\n",
      "L'espèce 'Mésange huppée' n'a pas été repérée en 'juin'\n",
      "L'espèce 'Mésange noire' n'a pas été repérée en 'juin'\n",
      "L'espèce 'Mésange à longue queue' n'a pas été repérée en 'juin'\n",
      "L'espèce 'Pic épeiche' n'a pas été repérée en 'juin'\n",
      "L'espèce 'Roitelet à triple bandeau' n'a pas été repérée en 'juin'\n",
      "L'espèce 'Sittelle torchepot' n'a pas été repérée en 'juin'\n",
      "L'espèce 'Accenteur mouchet' n'a pas été repérée en 'juillet'\n",
      "L'espèce 'Goéland argenté' n'a pas été repérée en 'juillet'\n",
      "L'espèce 'Grive musicienne' n'a pas été repérée en 'juillet'\n",
      "L'espèce 'Mésange noire' n'a pas été repérée en 'juillet'\n",
      "L'espèce 'Pic épeiche' n'a pas été repérée en 'juillet'\n",
      "L'espèce 'Roitelet à triple bandeau' n'a pas été repérée en 'juillet'\n",
      "L'espèce 'Sittelle torchepot' n'a pas été repérée en 'juillet'\n",
      "L'espèce 'Goéland argenté' n'a pas été repérée en 'aout'\n",
      "L'espèce 'Grive musicienne' n'a pas été repérée en 'aout'\n",
      "L'espèce 'Mésange huppée' n'a pas été repérée en 'aout'\n",
      "L'espèce 'Mésange noire' n'a pas été repérée en 'aout'\n",
      "L'espèce 'Pic épeiche' n'a pas été repérée en 'aout'\n",
      "L'espèce 'Pinson des arbres' n'a pas été repérée en 'aout'\n",
      "L'espèce 'Roitelet huppé' n'a pas été repérée en 'aout'\n",
      "L'espèce 'Roitelet à triple bandeau' n'a pas été repérée en 'aout'\n",
      "L'espèce 'Sittelle torchepot' n'a pas été repérée en 'aout'\n",
      "L'espèce 'Étourneau sansonnet' n'a pas été repérée en 'aout'\n",
      "L'espèce 'Goéland argenté' n'a pas été repérée en 'septembre'\n",
      "L'espèce 'Grive musicienne' n'a pas été repérée en 'septembre'\n",
      "L'espèce 'Mésange huppée' n'a pas été repérée en 'septembre'\n",
      "L'espèce 'Mésange noire' n'a pas été repérée en 'septembre'\n",
      "L'espèce 'Mésange à longue queue' n'a pas été repérée en 'septembre'\n",
      "L'espèce 'Pic épeiche' n'a pas été repérée en 'septembre'\n",
      "L'espèce 'Pouillot véloce' n'a pas été repérée en 'septembre'\n",
      "L'espèce 'Roitelet huppé' n'a pas été repérée en 'septembre'\n",
      "L'espèce 'Étourneau sansonnet' n'a pas été repérée en 'septembre'\n",
      "L'espèce 'Accenteur mouchet' n'a pas été repérée en 'octobre'\n",
      "L'espèce 'Fauvette à tête noire' n'a pas été repérée en 'octobre'\n",
      "L'espèce 'Goéland argenté' n'a pas été repérée en 'octobre'\n",
      "L'espèce 'Mésange huppée' n'a pas été repérée en 'octobre'\n",
      "L'espèce 'Mésange noire' n'a pas été repérée en 'octobre'\n",
      "L'espèce 'Mésange à longue queue' n'a pas été repérée en 'octobre'\n",
      "L'espèce 'Pic vert' n'a pas été repérée en 'octobre'\n",
      "L'espèce 'Pic épeiche' n'a pas été repérée en 'octobre'\n",
      "L'espèce 'Pinson des arbres' n'a pas été repérée en 'octobre'\n",
      "L'espèce 'Pouillot véloce' n'a pas été repérée en 'octobre'\n",
      "L'espèce 'Roitelet huppé' n'a pas été repérée en 'octobre'\n",
      "L'espèce 'Étourneau sansonnet' n'a pas été repérée en 'octobre'\n",
      "L'espèce 'Goéland argenté' n'a pas été repérée en 'novembre'\n",
      "L'espèce 'Grive musicienne' n'a pas été repérée en 'novembre'\n",
      "L'espèce 'Mésange huppée' n'a pas été repérée en 'novembre'\n",
      "L'espèce 'Pic épeiche' n'a pas été repérée en 'novembre'\n",
      "L'espèce 'Pouillot véloce' n'a pas été repérée en 'novembre'\n",
      "L'espèce 'Roitelet huppé' n'a pas été repérée en 'novembre'\n",
      "L'espèce 'Accenteur mouchet' n'a pas été repérée en 'decembre'\n",
      "L'espèce 'Fauvette à tête noire' n'a pas été repérée en 'decembre'\n",
      "L'espèce 'Goéland argenté' n'a pas été repérée en 'decembre'\n",
      "L'espèce 'Grive musicienne' n'a pas été repérée en 'decembre'\n",
      "L'espèce 'Mésange huppée' n'a pas été repérée en 'decembre'\n",
      "L'espèce 'Mésange noire' n'a pas été repérée en 'decembre'\n",
      "L'espèce 'Mésange à longue queue' n'a pas été repérée en 'decembre'\n",
      "L'espèce 'Pinson des arbres' n'a pas été repérée en 'decembre'\n",
      "L'espèce 'Pouillot véloce' n'a pas été repérée en 'decembre'\n",
      "L'espèce 'Roitelet huppé' n'a pas été repérée en 'decembre'\n",
      "L'espèce 'Roitelet à triple bandeau' n'a pas été repérée en 'decembre'\n",
      "L'espèce 'Sittelle torchepot' n'a pas été repérée en 'decembre'\n"
     ]
    }
   ],
   "source": [
    "# Initialiser une liste vide pour stocker les noms des espèces et les mois\n",
    "zero_values = []\n",
    "\n",
    "# Parcourir les index et les colonnes du DataFrame\n",
    "for idx in ind:\n",
    "    for col in keys:\n",
    "        if data.loc[idx, col] == 0:\n",
    "            # Ajouter le nom de l'espèce et du mois à la liste s'ils ont une valeur de zéro\n",
    "            zero_values.append((col, idx))\n",
    "\n",
    "# Afficher les noms des espèces et les mois correspondants aux valeurs égales à zéro et ajout des espèces concerné dans un tableau pour la supression plus tard\n",
    "species_null = []\n",
    "month_null = []\n",
    "for zero in zero_values:\n",
    "    print(f\"L'espèce '{zero[0]}' n'a pas été repérée en '{zero[1]}'\")\n",
    "    species_null.append(zero[0])\n",
    "    month_null.append(zero[1])\n"
   ]
  },
  {
   "cell_type": "code",
   "execution_count": 78,
   "id": "3c9d2478",
   "metadata": {},
   "outputs": [
    {
     "name": "stdout",
     "output_type": "stream",
     "text": [
      "Cela concerne 15 espèces.\n"
     ]
    }
   ],
   "source": [
    "#suppression des doublons\n",
    "species_null = list(set(species_null))\n",
    "#nombre d'espèce differente concerné\n",
    "print(\"Cela concerne \"+str(len(species_null))+\" espèces.\")"
   ]
  },
  {
   "cell_type": "code",
   "execution_count": 79,
   "id": "dc733630",
   "metadata": {},
   "outputs": [
    {
     "name": "stdout",
     "output_type": "stream",
     "text": [
      "Cela concerne 12 mois.\n"
     ]
    }
   ],
   "source": [
    "#suppression des doublons\n",
    "month_null = list(set(month_null))\n",
    "#nombre de mois concerné\n",
    "print(\"Cela concerne \"+str(len(month_null))+\" mois.\")"
   ]
  },
  {
   "cell_type": "markdown",
   "id": "0ede0ab9",
   "metadata": {},
   "source": [
    "## 2.c) Supprimez ces espèces. Elles ne seront pas prises en compte dans la suite de notre analyse."
   ]
  },
  {
   "cell_type": "code",
   "execution_count": 80,
   "id": "82ba6da5",
   "metadata": {},
   "outputs": [
    {
     "data": {
      "text/html": [
       "<div>\n",
       "<style scoped>\n",
       "    .dataframe tbody tr th:only-of-type {\n",
       "        vertical-align: middle;\n",
       "    }\n",
       "\n",
       "    .dataframe tbody tr th {\n",
       "        vertical-align: top;\n",
       "    }\n",
       "\n",
       "    .dataframe thead th {\n",
       "        text-align: right;\n",
       "    }\n",
       "</style>\n",
       "<table border=\"1\" class=\"dataframe\">\n",
       "  <thead>\n",
       "    <tr style=\"text-align: right;\">\n",
       "      <th></th>\n",
       "      <th>Corneille noire</th>\n",
       "      <th>Geai des chênes</th>\n",
       "      <th>Grimpereau des jardins</th>\n",
       "      <th>Merle noir</th>\n",
       "      <th>Mésange bleue</th>\n",
       "      <th>Mésange charbonnière</th>\n",
       "      <th>Perruche à collier</th>\n",
       "      <th>Pie bavarde</th>\n",
       "      <th>Pigeon biset</th>\n",
       "      <th>Pigeon ramier</th>\n",
       "      <th>Rougegorge familier</th>\n",
       "      <th>Troglodyte mignon</th>\n",
       "    </tr>\n",
       "    <tr>\n",
       "      <th>Mois</th>\n",
       "      <th></th>\n",
       "      <th></th>\n",
       "      <th></th>\n",
       "      <th></th>\n",
       "      <th></th>\n",
       "      <th></th>\n",
       "      <th></th>\n",
       "      <th></th>\n",
       "      <th></th>\n",
       "      <th></th>\n",
       "      <th></th>\n",
       "      <th></th>\n",
       "    </tr>\n",
       "  </thead>\n",
       "  <tbody>\n",
       "    <tr>\n",
       "      <th>janvier</th>\n",
       "      <td>22</td>\n",
       "      <td>4</td>\n",
       "      <td>3</td>\n",
       "      <td>22</td>\n",
       "      <td>16</td>\n",
       "      <td>22</td>\n",
       "      <td>18</td>\n",
       "      <td>15</td>\n",
       "      <td>1</td>\n",
       "      <td>37</td>\n",
       "      <td>14</td>\n",
       "      <td>5</td>\n",
       "    </tr>\n",
       "    <tr>\n",
       "      <th>fevrier</th>\n",
       "      <td>9</td>\n",
       "      <td>3</td>\n",
       "      <td>4</td>\n",
       "      <td>13</td>\n",
       "      <td>7</td>\n",
       "      <td>9</td>\n",
       "      <td>2</td>\n",
       "      <td>8</td>\n",
       "      <td>1</td>\n",
       "      <td>8</td>\n",
       "      <td>6</td>\n",
       "      <td>4</td>\n",
       "    </tr>\n",
       "    <tr>\n",
       "      <th>mars</th>\n",
       "      <td>25</td>\n",
       "      <td>2</td>\n",
       "      <td>7</td>\n",
       "      <td>24</td>\n",
       "      <td>16</td>\n",
       "      <td>12</td>\n",
       "      <td>16</td>\n",
       "      <td>15</td>\n",
       "      <td>17</td>\n",
       "      <td>24</td>\n",
       "      <td>9</td>\n",
       "      <td>10</td>\n",
       "    </tr>\n",
       "    <tr>\n",
       "      <th>avril</th>\n",
       "      <td>7</td>\n",
       "      <td>2</td>\n",
       "      <td>2</td>\n",
       "      <td>12</td>\n",
       "      <td>7</td>\n",
       "      <td>4</td>\n",
       "      <td>7</td>\n",
       "      <td>1</td>\n",
       "      <td>3</td>\n",
       "      <td>10</td>\n",
       "      <td>1</td>\n",
       "      <td>5</td>\n",
       "    </tr>\n",
       "    <tr>\n",
       "      <th>mai</th>\n",
       "      <td>7</td>\n",
       "      <td>1</td>\n",
       "      <td>5</td>\n",
       "      <td>24</td>\n",
       "      <td>4</td>\n",
       "      <td>2</td>\n",
       "      <td>9</td>\n",
       "      <td>5</td>\n",
       "      <td>8</td>\n",
       "      <td>9</td>\n",
       "      <td>11</td>\n",
       "      <td>7</td>\n",
       "    </tr>\n",
       "    <tr>\n",
       "      <th>juin</th>\n",
       "      <td>15</td>\n",
       "      <td>1</td>\n",
       "      <td>5</td>\n",
       "      <td>23</td>\n",
       "      <td>8</td>\n",
       "      <td>10</td>\n",
       "      <td>13</td>\n",
       "      <td>8</td>\n",
       "      <td>3</td>\n",
       "      <td>25</td>\n",
       "      <td>11</td>\n",
       "      <td>12</td>\n",
       "    </tr>\n",
       "    <tr>\n",
       "      <th>juillet</th>\n",
       "      <td>10</td>\n",
       "      <td>2</td>\n",
       "      <td>5</td>\n",
       "      <td>11</td>\n",
       "      <td>6</td>\n",
       "      <td>3</td>\n",
       "      <td>4</td>\n",
       "      <td>5</td>\n",
       "      <td>4</td>\n",
       "      <td>13</td>\n",
       "      <td>4</td>\n",
       "      <td>2</td>\n",
       "    </tr>\n",
       "    <tr>\n",
       "      <th>aout</th>\n",
       "      <td>21</td>\n",
       "      <td>1</td>\n",
       "      <td>2</td>\n",
       "      <td>17</td>\n",
       "      <td>10</td>\n",
       "      <td>5</td>\n",
       "      <td>2</td>\n",
       "      <td>4</td>\n",
       "      <td>7</td>\n",
       "      <td>14</td>\n",
       "      <td>10</td>\n",
       "      <td>5</td>\n",
       "    </tr>\n",
       "    <tr>\n",
       "      <th>septembre</th>\n",
       "      <td>15</td>\n",
       "      <td>1</td>\n",
       "      <td>5</td>\n",
       "      <td>10</td>\n",
       "      <td>11</td>\n",
       "      <td>8</td>\n",
       "      <td>12</td>\n",
       "      <td>6</td>\n",
       "      <td>2</td>\n",
       "      <td>32</td>\n",
       "      <td>12</td>\n",
       "      <td>5</td>\n",
       "    </tr>\n",
       "    <tr>\n",
       "      <th>octobre</th>\n",
       "      <td>6</td>\n",
       "      <td>1</td>\n",
       "      <td>1</td>\n",
       "      <td>4</td>\n",
       "      <td>4</td>\n",
       "      <td>3</td>\n",
       "      <td>4</td>\n",
       "      <td>2</td>\n",
       "      <td>1</td>\n",
       "      <td>34</td>\n",
       "      <td>6</td>\n",
       "      <td>1</td>\n",
       "    </tr>\n",
       "    <tr>\n",
       "      <th>novembre</th>\n",
       "      <td>19</td>\n",
       "      <td>6</td>\n",
       "      <td>4</td>\n",
       "      <td>16</td>\n",
       "      <td>6</td>\n",
       "      <td>7</td>\n",
       "      <td>9</td>\n",
       "      <td>3</td>\n",
       "      <td>11</td>\n",
       "      <td>20</td>\n",
       "      <td>16</td>\n",
       "      <td>4</td>\n",
       "    </tr>\n",
       "    <tr>\n",
       "      <th>decembre</th>\n",
       "      <td>5</td>\n",
       "      <td>1</td>\n",
       "      <td>1</td>\n",
       "      <td>3</td>\n",
       "      <td>5</td>\n",
       "      <td>3</td>\n",
       "      <td>3</td>\n",
       "      <td>3</td>\n",
       "      <td>5</td>\n",
       "      <td>6</td>\n",
       "      <td>2</td>\n",
       "      <td>1</td>\n",
       "    </tr>\n",
       "  </tbody>\n",
       "</table>\n",
       "</div>"
      ],
      "text/plain": [
       "           Corneille noire  Geai des chênes  Grimpereau des jardins  \\\n",
       "Mois                                                                  \n",
       "janvier                 22                4                       3   \n",
       "fevrier                  9                3                       4   \n",
       "mars                    25                2                       7   \n",
       "avril                    7                2                       2   \n",
       "mai                      7                1                       5   \n",
       "juin                    15                1                       5   \n",
       "juillet                 10                2                       5   \n",
       "aout                    21                1                       2   \n",
       "septembre               15                1                       5   \n",
       "octobre                  6                1                       1   \n",
       "novembre                19                6                       4   \n",
       "decembre                 5                1                       1   \n",
       "\n",
       "           Merle noir  Mésange bleue  Mésange charbonnière  \\\n",
       "Mois                                                         \n",
       "janvier            22             16                    22   \n",
       "fevrier            13              7                     9   \n",
       "mars               24             16                    12   \n",
       "avril              12              7                     4   \n",
       "mai                24              4                     2   \n",
       "juin               23              8                    10   \n",
       "juillet            11              6                     3   \n",
       "aout               17             10                     5   \n",
       "septembre          10             11                     8   \n",
       "octobre             4              4                     3   \n",
       "novembre           16              6                     7   \n",
       "decembre            3              5                     3   \n",
       "\n",
       "           Perruche à collier  Pie bavarde  Pigeon biset  Pigeon ramier  \\\n",
       "Mois                                                                      \n",
       "janvier                    18           15             1             37   \n",
       "fevrier                     2            8             1              8   \n",
       "mars                       16           15            17             24   \n",
       "avril                       7            1             3             10   \n",
       "mai                         9            5             8              9   \n",
       "juin                       13            8             3             25   \n",
       "juillet                     4            5             4             13   \n",
       "aout                        2            4             7             14   \n",
       "septembre                  12            6             2             32   \n",
       "octobre                     4            2             1             34   \n",
       "novembre                    9            3            11             20   \n",
       "decembre                    3            3             5              6   \n",
       "\n",
       "           Rougegorge familier  Troglodyte mignon  \n",
       "Mois                                               \n",
       "janvier                     14                  5  \n",
       "fevrier                      6                  4  \n",
       "mars                         9                 10  \n",
       "avril                        1                  5  \n",
       "mai                         11                  7  \n",
       "juin                        11                 12  \n",
       "juillet                      4                  2  \n",
       "aout                        10                  5  \n",
       "septembre                   12                  5  \n",
       "octobre                      6                  1  \n",
       "novembre                    16                  4  \n",
       "decembre                     2                  1  "
      ]
     },
     "execution_count": 80,
     "metadata": {},
     "output_type": "execute_result"
    }
   ],
   "source": [
    "#Suppression des espèces n'ayant pas été observé pour au mois un mois\n",
    "data_2=data.drop(species_null,axis=1)\n",
    "data_2"
   ]
  },
  {
   "cell_type": "code",
   "execution_count": 81,
   "id": "dfb35049",
   "metadata": {},
   "outputs": [
    {
     "data": {
      "text/plain": [
       "Mois\n",
       "janvier      179\n",
       "mars         177\n",
       "juin         134\n",
       "novembre     121\n",
       "septembre    119\n",
       "aout          98\n",
       "mai           92\n",
       "fevrier       74\n",
       "juillet       69\n",
       "octobre       67\n",
       "avril         61\n",
       "decembre      38\n",
       "dtype: int64"
      ]
     },
     "execution_count": 81,
     "metadata": {},
     "output_type": "execute_result"
    }
   ],
   "source": [
    "data_2.sum(axis=1).sort_values(ascending=False)"
   ]
  },
  {
   "cell_type": "code",
   "execution_count": 82,
   "id": "3b4bc740",
   "metadata": {},
   "outputs": [
    {
     "data": {
      "text/plain": [
       "Pigeon ramier             232\n",
       "Merle noir                179\n",
       "Corneille noire           161\n",
       "Rougegorge familier       102\n",
       "Mésange bleue             100\n",
       "Perruche à collier         99\n",
       "Mésange charbonnière       88\n",
       "Pie bavarde                75\n",
       "Pigeon biset               63\n",
       "Troglodyte mignon          61\n",
       "Grimpereau des jardins     44\n",
       "Geai des chênes            25\n",
       "dtype: int64"
      ]
     },
     "execution_count": 82,
     "metadata": {},
     "output_type": "execute_result"
    }
   ],
   "source": [
    "data_2.sum(axis=0).sort_values(ascending=False)"
   ]
  },
  {
   "cell_type": "markdown",
   "id": "1e770120",
   "metadata": {},
   "source": [
    "## 3) Calculez la variance du nombre d’oiseaux observés pour chaque espèce restante. Commentez. Quelle est l’espèce dont le nombre d’observations par mois varie le plus ? Quelle est l’espèce dont le nombre d’observations par mois varie le moins ?"
   ]
  },
  {
   "cell_type": "code",
   "execution_count": 83,
   "id": "1ac25e26",
   "metadata": {},
   "outputs": [],
   "source": [
    "# Utiliser la méthode describe() pour obtenir l'écart type\n",
    "resume = data_2.describe()\n",
    "\n",
    "# Utiliser la méthode var() pour obtenir la variance\n",
    "variance = data_2.var()\n",
    "\n",
    "# Rajouter la variance dans le résumé statistique\n",
    "resume.loc['variance'] = variance"
   ]
  },
  {
   "cell_type": "code",
   "execution_count": 84,
   "id": "0ec29ea5",
   "metadata": {},
   "outputs": [
    {
     "name": "stdout",
     "output_type": "stream",
     "text": [
      "l’espèce dont le nombre d’observations par mois varie le plus est le Pigeon ramier avec une variance de 119.15\n",
      "l’espèce dont le nombre d’observations par mois varie le moins est le Geai des chênes avec une variance de 2.45\n"
     ]
    }
   ],
   "source": [
    "#espèce ayant la plus grande variance\n",
    "max_var = variance.idxmax()\n",
    "\n",
    "#espèce ayant la plus petite variance\n",
    "min_var = variance.idxmin()\n",
    "\n",
    "print(\"l’espèce dont le nombre d’observations par mois varie le plus est le \"+max_var+ \" avec une variance de \"+str(round(resume[max_var]['variance'],2)))\n",
    "print(\"l’espèce dont le nombre d’observations par mois varie le moins est le \"+min_var+ \" avec une variance de \"+str(round(resume[min_var]['variance'],2)))"
   ]
  },
  {
   "cell_type": "markdown",
   "id": "c9cff800",
   "metadata": {},
   "source": [
    "## On décide de s’intéresser plus particulièrement aux perruches à collier."
   ]
  },
  {
   "cell_type": "markdown",
   "id": "835baa3f",
   "metadata": {},
   "source": [
    "## 4) Calculez la moyenne, la médiane, le minimum, le maximum et l’écart-type du nombre de perruches observées. Affichez l’histogramme de ces observations. Commentez"
   ]
  },
  {
   "cell_type": "code",
   "execution_count": 85,
   "id": "b3ddf9c6",
   "metadata": {},
   "outputs": [
    {
     "data": {
      "text/plain": [
       "count       12.000000\n",
       "mean         8.250000\n",
       "std          5.528850\n",
       "min          2.000000\n",
       "25%          3.750000\n",
       "50%          8.000000\n",
       "75%         12.250000\n",
       "max         18.000000\n",
       "variance    30.568182\n",
       "Name: Perruche à collier, dtype: float64"
      ]
     },
     "execution_count": 85,
     "metadata": {},
     "output_type": "execute_result"
    }
   ],
   "source": [
    "#Résumé statistique pour l'espèce \"Perruches à collier\"\n",
    "resume[\"Perruche à collier\"]"
   ]
  },
  {
   "cell_type": "code",
   "execution_count": 86,
   "id": "437c25ab",
   "metadata": {
    "scrolled": false
   },
   "outputs": [
    {
     "data": {
      "text/plain": [
       "<Figure size 1440x720 with 0 Axes>"
      ]
     },
     "metadata": {},
     "output_type": "display_data"
    },
    {
     "data": {
      "image/png": "[encoded data removed]",
      "text/plain": [
       "<Figure size 720x576 with 1 Axes>"
      ]
     },
     "metadata": {
      "needs_background": "light"
     },
     "output_type": "display_data"
    }
   ],
   "source": [
    "#Histogramme des observations de la \"Perruches à collier\"\n",
    "data_2 =data_2.reset_index()\n",
    "figure(figsize=(20.0, 10.0))\n",
    "\n",
    "ax = data_2.plot.bar(x = 'Mois', y = 'Perruche à collier',figsize=(10,8))\n",
    "\n",
    "# Ajouter les étiquettes de données\n",
    "for p in ax.patches:\n",
    "    ax.text(p.get_x() + p.get_width() / 2., p.get_height(),\n",
    "            '{:.0f}'.format(p.get_height()),\n",
    "            ha='center', va='bottom')\n",
    "\n",
    "# Afficher le diagramme\n",
    "plt.title(\"Observation des perruches par mois pour l'année 2023\")\n",
    "plt.show()"
   ]
  },
  {
   "cell_type": "code",
   "execution_count": 87,
   "id": "2d4ef691",
   "metadata": {
    "scrolled": false
   },
   "outputs": [],
   "source": [
    "#On réattribut les mois comme index\n",
    "data_2 = data_2.set_index('Mois')"
   ]
  },
  {
   "cell_type": "markdown",
   "id": "950ea983",
   "metadata": {},
   "source": [
    "### <p style=\"color:blue\">L'histogramme nous montre bel et bien qu'il y a une grande variation d'observation entre chaque mois pour l'espèce Perruche à collier</p>"
   ]
  },
  {
   "cell_type": "markdown",
   "id": "0a003ee4",
   "metadata": {},
   "source": [
    "## 5) Affichez l’évolution du nombre moyen d’individus observés par mois, toutes espèces confondues en ne prenant pas en compte les perruches à collier. Superposez sur cette même figure l’évolution du nombre de perruches à collier observées par mois. Comparez visuellement et quantitativement les deux courbes."
   ]
  },
  {
   "cell_type": "code",
   "execution_count": 88,
   "id": "cb1830da",
   "metadata": {
    "scrolled": false
   },
   "outputs": [
    {
     "data": {
      "text/plain": [
       "<AxesSubplot:title={'center':\"Comparaison entre l'évolution du nombre moyen d'individus observé sans compter la Perruche à collier et l'évolution de l'apparition de cette même espèce pour l'année 2023\"}, xlabel='Mois'>"
      ]
     },
     "execution_count": 88,
     "metadata": {},
     "output_type": "execute_result"
    },
    {
     "data": {
      "image/png": "[encoded data removed]",
      "text/plain": [
       "<Figure size 1440x720 with 1 Axes>"
      ]
     },
     "metadata": {
      "needs_background": "light"
     },
     "output_type": "display_data"
    }
   ],
   "source": [
    "#L'évolution du nombre moyen d’individus observés par mois, toute espèce confondue en ne prenant pas en compte les perruches à collier\n",
    "#réaffectation des mois en tant qu'indice\n",
    "\n",
    "#suppression de la colonne concernant les perruches\n",
    "data_3 = data_2.drop('Perruche à collier',axis=1)\n",
    "\n",
    "#moyenne par mois axis = 1 pour les lignes 0 pour les colonnes\n",
    "moyenne = data_3.mean(axis=1)\n",
    "\n",
    "\n",
    "#Affichage des courbes\n",
    "figure(figsize=(20.0, 10.0))\n",
    "plt.title(\"Comparaison entre l'évolution du nombre moyen d'individus observé sans compter la Perruche à collier et l'évolution de l'apparition de cette même espèce pour l'année 2023\")\n",
    "moyenne.plot.line()\n",
    "data_2['Perruche à collier'].plot.line()"
   ]
  },
  {
   "cell_type": "markdown",
   "id": "164feff0",
   "metadata": {},
   "source": [
    "<h3 style=\"color:blue\">De janvier à décembre, on remarque que les deux courbes ont une tendance de variation assez similaire, notamment entre janvier et juillet, mais dans le cas de l'évolution du nombre d'observation des perruches les valeurs sont plus extrêmes comparé à l'évolution de la moyenne des observations pour toutes les espèces sans compter la perruche à collier.</h3>\n",
    "\n",
    "<h3 style=\"color:blue\">Ces tendances similaires peuvent indiquer une corrélation ou une relation entre ces variables. Cependant, la corrélation ne garantit pas une relation de cause à effet. Les interprétations possibles sont les suivantes : coïncidence fortuite, partage de facteurs environnementaux, interactions entre les espèces ou biais d'observation/méthodologie commune. Une analyse statistique approfondie est nécessaire pour évaluer la significativité de la corrélation observée. Il est important de prendre en compte les facteurs environnementaux communs qui peuvent influencer toutes les espèces et les interactions possibles entre elles. La similarité des tendances peut suggérer une corrélation, mais une analyse plus approfondie est nécessaire pour comprendre la nature de cette relation. En résumé, la similarité dans les observations des perruches et des autres espèces peut indiquer une corrélation, mais d'autres facteurs doivent être pris en compte pour évaluer l'existence d'une relation causale.</h3>"
   ]
  },
  {
   "cell_type": "markdown",
   "id": "ba3b4896",
   "metadata": {},
   "source": [
    "## 6.a) Calculez le coefficient de corrélation entre la variable Perruche à collier et chacune des autres variables. Quelle est la plus forte et la plus faible valeur obtenue ? A quelles espèces correspondent ces valeurs extrêmes ?"
   ]
  },
  {
   "cell_type": "code",
   "execution_count": 89,
   "id": "51c34acc",
   "metadata": {
    "scrolled": true
   },
   "outputs": [
    {
     "data": {
      "text/plain": [
       "{'Corneille noire': 0.6207827503890743,\n",
       " 'Geai des chênes': 0.2391330573195033,\n",
       " 'Grimpereau des jardins': 0.543741117887576,\n",
       " 'Merle noir': 0.65792374447988,\n",
       " 'Mésange bleue': 0.7227407735142319,\n",
       " 'Mésange charbonnière': 0.7535001525090185,\n",
       " 'Pie bavarde': 0.7384542476563187,\n",
       " 'Pigeon biset': 0.25875487242020156,\n",
       " 'Pigeon ramier': 0.6417004227120185,\n",
       " 'Rougegorge familier': 0.5905484226515593,\n",
       " 'Troglodyte mignon': 0.6434771606507061}"
      ]
     },
     "execution_count": 89,
     "metadata": {},
     "output_type": "execute_result"
    }
   ],
   "source": [
    "# Convertir toutes les colonnes en nombres\n",
    "data_2 = data_2.apply(pd.to_numeric, errors='coerce')\n",
    "\n",
    "# Calcule de la corrélation\n",
    "keys_2 = data_2.keys()\n",
    "corr={}\n",
    "for k in keys_2:\n",
    "    if k != 'Perruche à collier':\n",
    "        corr_val = data_2['Perruche à collier'].corr(data_2[str(k)],method='pearson')\n",
    "        corr[k] =  corr_val\n",
    "\n",
    "corr"
   ]
  },
  {
   "cell_type": "code",
   "execution_count": 90,
   "id": "c39373de",
   "metadata": {
    "scrolled": true
   },
   "outputs": [
    {
     "name": "stdout",
     "output_type": "stream",
     "text": [
      "L'évolution du nombre d'observation des Perruches à collier est fortement corrélé avec l'espèce Mésange charbonnière à 75.35%\n",
      "L'évolution du nombre d'observation des Perruches à collier est faiblement corrélé avec l'espèce Geai des chênes à 23.91%\n"
     ]
    }
   ],
   "source": [
    "print(\"L'évolution du nombre d'observation des Perruches à collier est fortement corrélé avec l'espèce \"+max(corr, key=corr.get)+ \" à \"+str(round(corr[max(corr, key=corr.get)]*100,2))+\"%\")\n",
    "print(\"L'évolution du nombre d'observation des Perruches à collier est faiblement corrélé avec l'espèce \"+min(corr, key=corr.get)+ \" à \"+str(round(corr[min(corr, key=corr.get)]*100,2))+\"%\")"
   ]
  },
  {
   "cell_type": "markdown",
   "id": "b6342521",
   "metadata": {},
   "source": [
    "## 6.b) Affichez le nombre d’observations de perruches à collier par mois en fonction du nombre d’observations par mois de l’espèce la plus fortement et faiblement corrélée. Sur chaque figure, représentez chaque mois par une couleur différente, et ajoutez une légende. Commentez."
   ]
  },
  {
   "cell_type": "code",
   "execution_count": 92,
   "id": "93cb34d4",
   "metadata": {},
   "outputs": [],
   "source": [
    "#Génération de couleurs aléatoire pour les graphiques\n",
    "def generate_random_color():\n",
    "    r = random.randint(0, 255)\n",
    "    g = random.randint(0, 255)\n",
    "    b = random.randint(0, 255)\n",
    "    color_hex = '#{:02x}{:02x}{:02x}'.format(r, g, b)\n",
    "    return color_hex\n",
    "\n",
    "random_color = []\n",
    "for i in range(data.shape[0]):\n",
    "    random_color.append(generate_random_color())"
   ]
  },
  {
   "cell_type": "code",
   "execution_count": 93,
   "id": "548179e4",
   "metadata": {
    "scrolled": false
   },
   "outputs": [
    {
     "data": {
      "image/png": "[encoded data removed]",
      "text/plain": [
       "<Figure size 1440x720 with 1 Axes>"
      ]
     },
     "metadata": {
      "needs_background": "light"
     },
     "output_type": "display_data"
    }
   ],
   "source": [
    "#Nuage de point entre les observations des Mésanges Charbonnière et des Perruches à collier labélisé en fonction du mois\n",
    "\n",
    "figure(figsize=(20.0, 10.0))\n",
    "plt.scatter(data_2[max(corr, key=corr.get)],data_2['Perruche à collier'])\n",
    "plt.title(\"Observation des Perruches à Collier en fonction des observations des \"+max(corr, key=corr.get), size=15)\n",
    "plt.xlabel(\"Observation des \"+max(corr, key=corr.get),fontsize=15)\n",
    "plt.ylabel(\"Observation des Perruches\", fontsize=15)\n",
    "for i in range(data_2.shape[0]):\n",
    "    plt.annotate(ind[i],(data_2[max(corr, key=corr.get)][i], data_2['Perruche à collier'][i]), size=15,\n",
    "         ha=\"center\", va=\"center\",color=\"white\",\n",
    "             bbox=dict(boxstyle=\"square\",\n",
    "                   ec=(1., 0.9, 0.5),\n",
    "                   fc=random_color[i]\n",
    "                   )\n",
    "         )"
   ]
  },
  {
   "cell_type": "code",
   "execution_count": 94,
   "id": "99ee2100",
   "metadata": {},
   "outputs": [
    {
     "data": {
      "image/png": "[encoded data removed]",
      "text/plain": [
       "<Figure size 1440x720 with 1 Axes>"
      ]
     },
     "metadata": {
      "needs_background": "light"
     },
     "output_type": "display_data"
    }
   ],
   "source": [
    "#Nuage de point entre les observations des Geai des chênes et des Perruches à collier labélisé en fonction du mois\n",
    "\n",
    "figure(figsize=(20.0, 10.0))\n",
    "plt.scatter(data_2[min(corr, key=corr.get)],data_2['Perruche à collier'])\n",
    "plt.title(\"Observation des Perruches à Collier en fonction des observations des \"+min(corr, key=corr.get), size=15)\n",
    "plt.xlabel(\"Observation des \"+min(corr, key=corr.get),fontsize=15)\n",
    "plt.ylabel(\"Observation des Perruches\", fontsize=15)\n",
    "for i in range(data_2.shape[0]):\n",
    "    plt.annotate(ind[i],(data_2[min(corr, key=corr.get)][i], data_2['Perruche à collier'][i]), size=15,\n",
    "         ha=\"center\", va=\"center\",color=\"white\",\n",
    "             bbox=dict(boxstyle=\"square\",\n",
    "                   ec=(1., 0.9, 0.5),\n",
    "                   fc=random_color[i]\n",
    "                   )\n",
    "         )"
   ]
  },
  {
   "cell_type": "markdown",
   "id": "e62074d1",
   "metadata": {},
   "source": [
    "### <p style=\"color:blue\">On voit que le nuage de point du nombre d'observation des perruches en fonction des mésanges tend à ressembler à une droite ce qui est la preuve de la forte corrélation entre les deux variables, à contrario le nuage des points en fonction de l'espèce Geai des chênes où l'allure ne ressemble pas à une droite.</p>"
   ]
  },
  {
   "cell_type": "markdown",
   "id": "f7f9b595",
   "metadata": {},
   "source": [
    "# <span style=\"color: red\">Régression linéaire simple</span>"
   ]
  },
  {
   "cell_type": "markdown",
   "id": "9911d950",
   "metadata": {},
   "source": [
    "# <span style=\"color: purple\">Cas pour la variable qui a la corrélation la plus forte</span>"
   ]
  },
  {
   "cell_type": "markdown",
   "id": "68613508",
   "metadata": {},
   "source": [
    "## 11. Appliquez une régression linéaire. Quelle est la valeur du coefficient de détermination R2 – ajusté et non ajusté ? Donnez aussi les valeurs de β0 et β1 prédites par le modèle. Analysez quantitativement et visuellement vos résultats. "
   ]
  },
  {
   "cell_type": "code",
   "execution_count": 95,
   "id": "01d9eb84",
   "metadata": {},
   "outputs": [
    {
     "name": "stdout",
     "output_type": "stream",
     "text": [
      "Le coefficient directeur β1 vaut 0.74 et l'ordonné à l'origine β0 vaut 2.824 ce qui nous donne la relation suivante 0.74x + 2.824\n"
     ]
    }
   ],
   "source": [
    "#Application de la régression linéaire from scratch entre la variable perruche à collier et la mésange charbonnière\n",
    "\n",
    "\n",
    "xy=np.array(data_2['Perruche à collier']*data_2[max(corr, key=corr.get)])\n",
    "x=np.array(data_2[max(corr, key=corr.get)])\n",
    "y=np.array(data_2['Perruche à collier'])\n",
    "\n",
    "#Calcul de la covariance avec la formule Moy(XY)-Moy(X)*Moy(Y)\n",
    "cov = np.mean(xy)-np.mean(x)*np.mean(y)\n",
    "\n",
    "#Calcul des paramètres du modèle\n",
    "a = cov/np.var(x)\n",
    "b = np.mean(y)-a*np.mean(x)\n",
    "\n",
    "print(\"Le coefficient directeur β1 vaut \"+str(round(a,3))+ \" et l'ordonné à l'origine β0 vaut \"+str(round(b,3))+\" ce qui nous donne la relation suivante \"+str(round(a,3))+\"x + \"+str(round(b,3)))"
   ]
  },
  {
   "cell_type": "code",
   "execution_count": 96,
   "id": "a8714890",
   "metadata": {},
   "outputs": [
    {
     "name": "stdout",
     "output_type": "stream",
     "text": [
      "On remarque que  56.78  % de la dispersion est expliquée par le modèle de régression, ce qui est moyen.\n"
     ]
    }
   ],
   "source": [
    "#Calcul du coefficient de détermination R2 \n",
    "\n",
    "n = len(y)\n",
    "\n",
    "#Calcul des observations prédites par le modèle\n",
    "y_chap = []\n",
    "\n",
    "for i in x:\n",
    "    y_chap.append(round(a*i+b,2))\n",
    "    \n",
    "y_chap = np.array(y_chap)\n",
    "\n",
    "\n",
    "#Calcul de la somme du carré des résidus du modèle ainsi que la somme des écarts entre les observations et la moyenne des observations\n",
    "SSR = 0\n",
    "SST = 0\n",
    "for i in range(len(x)):\n",
    "    SSR+=(y_chap[i]-y[i])**2\n",
    "    SST+=(y[i]-np.mean(y))**2\n",
    "\n",
    "#Calcul du R2\n",
    "R2=(1-(SSR/SST))*100\n",
    "\n",
    "#Le R2 ajusté et non ajusté sont les mêmes dans le cas d'une régression simple, ce qui n'a pas d'intêret ici.\n",
    "p=0\n",
    "R2_adjust = 1 - ((1 - R2) * (n - 1))/ (n - p - 1)\n",
    "\n",
    "\n",
    "print(\"On remarque que \",round(R2,2),\" % de la dispersion est expliquée par le modèle de régression, ce qui est moyen.\")"
   ]
  },
  {
   "cell_type": "code",
   "execution_count": 97,
   "id": "e2e020d0",
   "metadata": {
    "scrolled": false
   },
   "outputs": [
    {
     "data": {
      "image/png": "[encoded data removed]",
      "text/plain": [
       "<Figure size 1440x720 with 1 Axes>"
      ]
     },
     "metadata": {
      "needs_background": "light"
     },
     "output_type": "display_data"
    }
   ],
   "source": [
    "#Visuel des résultats\n",
    "data_pred={\"Mois\":ind,\"Perruche à collier\":y,max(corr, key=corr.get):x,\"Perruche à collier pred\":y_chap}\n",
    "data_pred=pd.DataFrame(data_pred).set_index('Mois')\n",
    "\n",
    "figure(figsize=(20.0, 10.0))\n",
    "plt.title(\"Ecart entre les observations réelles des Perruches et les observations prédites\")\n",
    "\n",
    "plt.plot(data_pred[max(corr, key=corr.get)], data_pred[\"Perruche à collier pred\"],color=\"orange\")\n",
    "plt.scatter(data_pred[max(corr, key=corr.get)], data_pred[\"Perruche à collier\"])\n",
    "plt.legend(['Prédiction Perruche','Observations Perruche'])\n",
    "plt.xlabel(\"Observation des \"+max(corr, key=corr.get))\n",
    "plt.ylabel(\"Observation des perruches\")\n",
    "plt.text(x=1.5, y=18, s=\"R2 = \"+str(round(R2,2))+ \" %\", color=\"red\", size=15)\n",
    "for i in range(data_2.shape[0]):\n",
    "    plt.annotate(ind[i],(data_2[max(corr, key=corr.get)][i], data_2['Perruche à collier'][i]), size=15,\n",
    "         ha=\"center\", va=\"center\",color=\"white\",\n",
    "             bbox=dict(boxstyle=\"square\",\n",
    "                   ec=(1., 0.9, 0.5),\n",
    "                   fc=random_color[i]\n",
    "                   )\n",
    "         )\n",
    "plt.show()"
   ]
  },
  {
   "cell_type": "markdown",
   "id": "9e6469bb",
   "metadata": {},
   "source": [
    "<h3 style=\"color:blue\"> On remarque aussi qu'il y'a forcément un grand écart entre les valeurs prédites et les valeurs réelles lorsque la variable X (ici la Mésange à collier) prend plusieurs fois la même valeur. On remarque aussi que la majorité des points sont en dessous de la droite de régression ce qui veut dire que notre modèle peut avoir une tendance à surestimer les résultats. </h3>"
   ]
  },
  {
   "cell_type": "markdown",
   "id": "c4f9a449",
   "metadata": {},
   "source": [
    "## 12. Calculez l’intervalle de confiance à 90% pour β0 et β1. Interprétez les résultats"
   ]
  },
  {
   "cell_type": "markdown",
   "id": "f5af28be",
   "metadata": {},
   "source": [
    "###  <p style=\"color: blue\">On sait que l'intervalle de confiance pour $\\beta1$ vaut : [$A_n$ - $t^\\frac{\\alpha}{2}_{n-2}$ * $\\sqrt{S^a_n}$ ; $A_n$ + $t^\\frac{\\alpha}{2}_{n-2}$ * $\\sqrt{S^a_n}$]</p>\n",
    "\n",
    "###  <p style=\"color: blue\">Où $A_n$ est le coefficient directeur calculé, $t^\\frac{\\alpha}{2}_{n-2}$ est le quantile de la loi de student à n-2 de degré de liberté d'orde $\\frac{\\alpha}{2}$, et $\\sqrt{S^a_n}$ qui est l'écart type empirique de $A_n$</p>"
   ]
  },
  {
   "cell_type": "code",
   "execution_count": 98,
   "id": "c054edb3",
   "metadata": {},
   "outputs": [
    {
     "name": "stdout",
     "output_type": "stream",
     "text": [
      "Le coefficient directeur β1 a 90.0% de chance d'être compris entre 0.37 et 1.11.\n",
      "On remarque que l'intervalle est cohérent avec la valeur de β1 trouvée avec β1 = 0.74 avec une taille d'intervalle de 0.7400000000000001\n"
     ]
    }
   ],
   "source": [
    "#estimation du coefficient directeur β1 que l'on va nommer An ici\n",
    "An = a\n",
    "\n",
    "#niveau de confiance\n",
    "c=0.9\n",
    "\n",
    "#Seuil d'erreur\n",
    "alpha = 1-c\n",
    "\n",
    "#Quantiles de la loi de Student\n",
    "t_alpha = t.ppf(1-(alpha/2), n-2)\n",
    "\n",
    "#Maintenant calculons S^a_n\n",
    "#Pour cela il faut calculer d'abord Sn\n",
    "\n",
    "Sn = SSR/(n-2)\n",
    "San = Sn/(n*np.var(x))\n",
    "\n",
    "#Calcule de l'intervalle de confiance \n",
    "\n",
    "borne_inf = An-t_alpha*San**(1/2)\n",
    "borne_sup = An+t_alpha*San**(1/2)\n",
    "\n",
    "a_sup=borne_sup\n",
    "a_inf=borne_inf\n",
    "\n",
    "print(\"Le coefficient directeur β1 a \"+str(c*100)+\"% de chance d'être compris entre \"+str(round(borne_inf,3))+ \" et \"+str(round(borne_sup,3))+\".\\nOn remarque que l'intervalle est cohérent avec la valeur de β1 trouvée avec β1 = \"+str(round(a,3))+\" avec une taille d'intervalle de \"+str(round(borne_sup,3)-round(borne_inf,3)))"
   ]
  },
  {
   "cell_type": "markdown",
   "id": "40cd6600",
   "metadata": {},
   "source": [
    "###  <p style=\"color: blue\">L'intervalle de confiance pour $\\beta0$  est de la forme : [$B_n$ - $t_2$ * $\\sqrt{S^b_n}$ ; $B_n$ - $t_1$ * $\\sqrt{S^b_n}$]</p>"
   ]
  },
  {
   "cell_type": "code",
   "execution_count": 99,
   "id": "228c382b",
   "metadata": {},
   "outputs": [
    {
     "name": "stdout",
     "output_type": "stream",
     "text": [
      "L'ordonnée à l'origine β0 a 90.0% de chance d'être compris entre -0.544 et 6.192.\n",
      "On remarque que l'intervalle est cohérent avec la valeur de β0 trouvée avec β0 = 2.824 avec une taille d'intervalle de 6.736000000000001\n"
     ]
    }
   ],
   "source": [
    "#estimation du coefficient directeur β0 que l'on va nommer Bn\n",
    "Bn = b\n",
    "\n",
    "#Maintenant calculons S^b_n\n",
    "x_square = np.sum(x*x)\n",
    "Sbn = Sn*(x_square/(pow(n,2)*np.var(x)))\n",
    "\n",
    "#Calcule de l'intervalle de confiance \n",
    "\n",
    "borne_inf = Bn-t_alpha*Sbn**(1/2)\n",
    "borne_sup = Bn+t_alpha*Sbn**(1/2)\n",
    "\n",
    "b_sup = borne_sup\n",
    "b_inf = borne_inf\n",
    "\n",
    "print(\"L'ordonnée à l'origine β0 a \"+str(c*100)+\"% de chance d'être compris entre \"+str(round(borne_inf,3))+ \" et \"+str(round(borne_sup,3))+\".\\nOn remarque que l'intervalle est cohérent avec la valeur de β0 trouvée avec β0 = \"+str(round(b,3))+\" avec une taille d'intervalle de \"+str(round(borne_sup,3)-round(borne_inf,3)))"
   ]
  },
  {
   "cell_type": "code",
   "execution_count": 102,
   "id": "1565d070",
   "metadata": {},
   "outputs": [
    {
     "data": {
      "image/png": "[encoded data removed]",
      "text/plain": [
       "<Figure size 1440x720 with 1 Axes>"
      ]
     },
     "metadata": {
      "needs_background": "light"
     },
     "output_type": "display_data"
    }
   ],
   "source": [
    "#Calcul des observations prédites par le modèle dans le pire et meilleur des cas\n",
    "\n",
    "#Calcul des y chapeau avec cette fois-ci les paramètres estimés par l'intervalle de confiance\n",
    "y_chap_inf,y_chap_sup = [],[]\n",
    "\n",
    "for i in x:\n",
    "    y_chap_inf.append(round(a_inf*i+b_inf,2))\n",
    "    y_chap_sup.append(round(a_sup*i+b_sup,2))\n",
    "    \n",
    "y_chap_inf = np.array(y_chap_inf)\n",
    "y_chap_sup = np.array(y_chap_sup)\n",
    "\n",
    "\n",
    "data_pred['Perruche à collier pred inf']=y_chap_inf\n",
    "data_pred['Perruche à collier pred sup']=y_chap_sup\n",
    "\n",
    "#Visualisation des résultats\n",
    "figure(figsize=(20.0, 10.0))\n",
    "plt.title(\"Ecart les résultats du modéle et la observation avec ajout de l'intervalle de confiance \")\n",
    "\n",
    "plt.scatter(data_pred[max(corr, key=corr.get)], data_pred[\"Perruche à collier\"], color='blue')\n",
    "plt.plot(data_pred[max(corr, key=corr.get)], data_pred[\"Perruche à collier pred\"],color=\"orange\")\n",
    "\n",
    "plt.plot(data_pred[max(corr, key=corr.get)], data_pred[\"Perruche à collier pred inf\"],color=\"red\")\n",
    "plt.plot(data_pred[max(corr, key=corr.get)], data_pred[\"Perruche à collier pred sup\"],color=\"green\")\n",
    "\n",
    "plt.legend(['Prédiction du modèle','Borne inférieure','Borne supérieure'])\n",
    "plt.xlabel(\"Observation des \"+max(corr, key=corr.get))\n",
    "plt.ylabel(\"Observation des perruches\")\n",
    "plt.text(x=1.5, y=27, s=\"R2 = \"+str(round(R2,2))+ \" %\", color=\"red\", size=15)\n",
    "for i in range(data_2.shape[0]):\n",
    "    plt.annotate(ind[i],(data_2[max(corr, key=corr.get)][i], data_2['Perruche à collier'][i]), size=15,\n",
    "         ha=\"center\", va=\"center\",color=\"white\",\n",
    "             bbox=dict(boxstyle=\"square\",\n",
    "                   ec=(1., 0.9, 0.5),\n",
    "                   fc=random_color[i]\n",
    "                   )\n",
    "         )\n",
    "plt.show()"
   ]
  },
  {
   "cell_type": "markdown",
   "id": "0c366255",
   "metadata": {},
   "source": [
    "<h3 style=\"color: blue\">On remarque que la taille des intervalles trouvées à un niveau de confiance de 90% sont très grandes,ce qui suggère une estimation peu précise des paramètres, spécialement pour l'intervalle de β0 qui a une taille de 6.74.</h3>\n",
    "<h3 style=\"color: blue\">Visuellement, quand on utilise les paramètres estimés par les intervalles de confiance pour prédire les observations, on constate que la plage entre les deux bornes s'élargit de plus en plus. On peut l'interpréter par une augmentation de l'incertitude ou de la variabilité des prédictions à mesure que l'on s'éloigne des valeurs centrales. Cela peut remettre en question la distribution linéaire des données que l'on peut expliquer par la taille de l'échantillons qui n'équivaut qu'à 12. La présence de point aberrant augmente l'incertitude de l'intervalle donc élargit la plage.</h3>"
   ]
  },
  {
   "cell_type": "markdown",
   "id": "241a7024",
   "metadata": {},
   "source": [
    "## 13. Evaluez l’hypothèse de pente nulle pour le coefficient β1 et concluez sur l’existence d’une relation linéaire entre les deux variables. Le coefficient β1 est-il significativement non nul ?"
   ]
  },
  {
   "cell_type": "markdown",
   "id": "e87615c1",
   "metadata": {},
   "source": [
    "###  <p style=\"color: blue\"> Le niveau de confiance n'étant pas précisé, on part du postulat qu'il est de 95% donc un seuil de signification 5%</p>\n",
    "\n",
    "### <p style=\"color: blue\"> On pose l'hypothèse H0 qui correspond à la pente nulle qui peut se traduire par :  β1 = 0.</p>\n",
    "###  <p style=\"color: blue\">L'hypothèse H1 correspond à une pente différente de 0 qui se traduit par : β1 $\\neq$ 0</p>\n",
    "###  <p style=\"color: blue\">On doit alors vérifier la condition suivante pour rejeter H0 : P(|t|>$t^\\frac{\\alpha}{2}_{n-2}$) = $\\alpha$.  Avec t valant $\\frac{\\beta1_{estimé} - \\beta1}{ \\sqrt{S^a_n}}$.</p>\n",
    "### <p style=\"color: blue\">Suite à cela, on doit calculer la p-value et verifié si elle est inferieur à 5% pour rejeter cette hypothèse</p>"
   ]
  },
  {
   "cell_type": "code",
   "execution_count": 103,
   "id": "ea857cb8",
   "metadata": {},
   "outputs": [
    {
     "name": "stdout",
     "output_type": "stream",
     "text": [
      "                            OLS Regression Results                            \n",
      "==============================================================================\n",
      "Dep. Variable:                      y   R-squared:                       0.568\n",
      "Model:                            OLS   Adj. R-squared:                  0.525\n",
      "Method:                 Least Squares   F-statistic:                     13.14\n",
      "Date:                Mon, 29 May 2023   Prob (F-statistic):            0.00466\n",
      "Time:                        17:13:09   Log-Likelihood:                -31.992\n",
      "No. Observations:                  12   AIC:                             67.98\n",
      "Df Residuals:                      10   BIC:                             68.95\n",
      "Df Model:                           1                                         \n",
      "Covariance Type:            nonrobust                                         \n",
      "==============================================================================\n",
      "                 coef    std err          t      P>|t|       [0.05       0.95]\n",
      "------------------------------------------------------------------------------\n",
      "const          2.8236      1.858      1.520      0.160      -0.544       6.192\n",
      "x1             0.7400      0.204      3.624      0.005       0.370       1.110\n",
      "==============================================================================\n",
      "Omnibus:                        1.165   Durbin-Watson:                   2.229\n",
      "Prob(Omnibus):                  0.559   Jarque-Bera (JB):                0.702\n",
      "Skew:                          -0.558   Prob(JB):                        0.704\n",
      "Kurtosis:                       2.601   Cond. No.                         15.5\n",
      "==============================================================================\n",
      "\n",
      "Notes:\n",
      "[1] Standard Errors assume that the covariance matrix of the errors is correctly specified.\n",
      "\n",
      "On rejette H0 donc on accepte H1 au seuil de 5.0%. Donc la probabilité que la pente soit nulle est de  0.47 % ce qui est très faible. Dans ce cas ci on peut affirmer qu'il y'a une relation linéaire entre les deux variables,et que les observations de la Mésange charbonnière explique les apparitions de la perruche.\n"
     ]
    },
    {
     "name": "stderr",
     "output_type": "stream",
     "text": [
      "C:\\Users\\imadr\\anaconda3\\lib\\site-packages\\scipy\\stats\\stats.py:1603: UserWarning: kurtosistest only valid for n>=20 ... continuing anyway, n=12\n",
      "  warnings.warn(\"kurtosistest only valid for n>=20 ... continuing \"\n"
     ]
    }
   ],
   "source": [
    "# Ajout d'une constante à x pour estimer l'ordonnée à l'origine\n",
    "X = sm.add_constant(x)\n",
    "\n",
    "# Création du modèle de régression linéaire\n",
    "model = sm.OLS(y, X)\n",
    "\n",
    "# Ajustement du modèle aux données\n",
    "results = model.fit()\n",
    "\n",
    "# Affichage des résultats\n",
    "print(results.summary(alpha=0.1))\n",
    "\n",
    "# Récupération de la p-value associée à la pente\n",
    "p_value = results.pvalues[1]\n",
    "\n",
    "#Seuil de rejet\n",
    "alpha = 0.05\n",
    "\n",
    "#Effectuons le test\n",
    "if p_value<alpha:\n",
    "    print(\"\\nOn rejette H0 donc on accepte H1 au seuil de \"+str(alpha*100)+\"%. Donc la probabilité que la pente soit nulle est de \",round(p_value*100,2),\"% ce qui est très faible. Dans ce cas ci on peut affirmer qu'il y'a une relation linéaire entre les deux variables,et que les observations de la \"+max(corr, key=corr.get)+\" explique les apparitions de la perruche.\")\n",
    "else :\n",
    "    print(\"\\nOn accepte H0 donc on rejette H1 au seuil de \"+str(alpha*100)+\"%. Donc la probabilité que la pente soit nulle est de \",round(p_value*100,2),\"% ce qui est grand. Dans ce cas-ci il n'y a pas de relation linéaire entre les deux variables, et le modèle devient Y = β0.\")\n"
   ]
  },
  {
   "cell_type": "markdown",
   "id": "4a79dc4d",
   "metadata": {},
   "source": [
    "###  <p style=\"color: blue\">On rejette H0 donc on accepte H1 au seuil de 5.0%. Par conséquent, la probabilité que la pente soit nulle est de  0.47 % ce qui est inférieur à 5%. On peut affirmer alors qu'il y'a une relation linéaire entre les deux variables, et que les observations de la Mésange charbonnière explique les apparitions de la perruche.</p>"
   ]
  },
  {
   "cell_type": "markdown",
   "id": "175fdf17",
   "metadata": {},
   "source": [
    "# <span style=\"color: purple\">Cas pour la variable qui a la corrélation la plus faible</span>"
   ]
  },
  {
   "cell_type": "markdown",
   "id": "af915ea8",
   "metadata": {},
   "source": [
    "## 11bis. Appliquez une régression linéaire. Quelle est la valeur du coefficient de détermination R2 – ajusté et non ajusté ? Donnez aussi les valeurs de β0 et β1 prédites par le modèle. Analysez quantitativement et visuellement vos résultats. "
   ]
  },
  {
   "cell_type": "code",
   "execution_count": 104,
   "id": "99f3c1b1",
   "metadata": {},
   "outputs": [
    {
     "name": "stdout",
     "output_type": "stream",
     "text": [
      "Le coefficient directeur β1 vaut 0.845 et l'ordonné à l'origine β0 vaut 6.489 ce qui nous donne la relation suivante 0.845x + 6.489\n"
     ]
    }
   ],
   "source": [
    "xy=np.array(data_2['Perruche à collier']*data_2[min(corr, key=corr.get)])\n",
    "x=np.array(data_2[min(corr, key=corr.get)])\n",
    "y=np.array(data_2['Perruche à collier'])\n",
    "cov = np.mean(xy)-np.mean(x)*np.mean(y)\n",
    "\n",
    "a = cov/np.var(x)\n",
    "b = np.mean(y)-a*np.mean(x)\n",
    "\n",
    "print(\"Le coefficient directeur β1 vaut \"+str(round(a,3))+ \" et l'ordonné à l'origine β0 vaut \"+str(round(b,3))+\" ce qui nous donne la relation suivante \"+str(round(a,3))+\"x + \"+str(round(b,3)))"
   ]
  },
  {
   "cell_type": "code",
   "execution_count": 105,
   "id": "c6049346",
   "metadata": {},
   "outputs": [
    {
     "name": "stdout",
     "output_type": "stream",
     "text": [
      "On remarque que 5.74 % de la dispersion est expliquée par le modèle de régression. On peut donc considérer notre modèle comme mauvais.\n"
     ]
    }
   ],
   "source": [
    "\n",
    "n = len(y)\n",
    "\n",
    "y_chap = []\n",
    "\n",
    "for i in x:\n",
    "    y_chap.append(round(a*i+b,2))\n",
    "    \n",
    "y_chap = np.array(y_chap)\n",
    "\n",
    "\n",
    "SSR = 0\n",
    "SST = 0\n",
    "for i in range(len(x)):\n",
    "    SSR+=(y_chap[i]-y[i])**2\n",
    "    SST+=(y[i]-np.mean(y))**2\n",
    "\n",
    "R2=(1-(SSR/SST))*100\n",
    "\n",
    "print(\"On remarque que \"+str(round(R2,2))+\" % de la dispersion est expliquée par le modèle de régression. On peut donc considérer notre modèle comme mauvais.\")"
   ]
  },
  {
   "cell_type": "code",
   "execution_count": 106,
   "id": "6f751a07",
   "metadata": {
    "scrolled": false
   },
   "outputs": [
    {
     "data": {
      "image/png": "[encoded data removed]",
      "text/plain": [
       "<Figure size 1440x720 with 1 Axes>"
      ]
     },
     "metadata": {
      "needs_background": "light"
     },
     "output_type": "display_data"
    }
   ],
   "source": [
    "#Visuel des résultats\n",
    "data_pred={\"Mois\":ind,\"Perruche à collier\":y,min(corr, key=corr.get):x,\"Perruche à collier pred\":y_chap}\n",
    "data_pred=pd.DataFrame(data_pred).set_index('Mois')\n",
    "\n",
    "figure(figsize=(20.0, 10.0))\n",
    "plt.title(\"Ecart entre les observations réelles des Perruches et les observations prédites\")\n",
    "plt.scatter(data_pred[min(corr, key=corr.get)], data_pred[\"Perruche à collier\"])\n",
    "plt.plot(data_pred[min(corr, key=corr.get)], data_pred[\"Perruche à collier pred\"],color=\"orange\")\n",
    "plt.legend(['Prédiction Perruche','Observations Perruche'])\n",
    "plt.xlabel(\"Observation des \"+min(corr, key=corr.get))\n",
    "plt.ylabel(\"Observation des perruches\")\n",
    "plt.text(x=5.75, y=17, s=\"R2 = \"+str(round(R2,2))+ \" %\", color=\"red\", size=15)\n",
    "for i in range(data_2.shape[0]):\n",
    "    plt.annotate(ind[i],(data_2[min(corr, key=corr.get)][i], data_2['Perruche à collier'][i]), size=15,\n",
    "         ha=\"center\", va=\"center\",color=\"white\",\n",
    "             bbox=dict(boxstyle=\"square\",\n",
    "                   ec=(1., 0.9, 0.5),\n",
    "                   fc=random_color[i]\n",
    "                   )\n",
    "         )\n",
    "plt.show()"
   ]
  },
  {
   "cell_type": "markdown",
   "id": "869db4ff",
   "metadata": {},
   "source": [
    "###  <p style=\"color: blue\">On note que le modèle est formellement mauvais, il y'a un trop grand écart entre les observations et les valeurs résultantes du modèle.</p>"
   ]
  },
  {
   "cell_type": "markdown",
   "id": "10e9ddd6",
   "metadata": {},
   "source": [
    "## 12bis. Calculez l’intervalle de confiance à 90% pour β0 et β1. Interprétez les résultats"
   ]
  },
  {
   "cell_type": "code",
   "execution_count": 107,
   "id": "b7fc597d",
   "metadata": {},
   "outputs": [
    {
     "name": "stdout",
     "output_type": "stream",
     "text": [
      "Le coefficient directeur β1 a 90.0% de chance d'être compris entre -1.122 et 2.812.\n",
      "On remarque que l'intervalle est cohérent avec la valeur de β1 trouvée avec β1 = 0.845 avec une taille d'intervalle de 3.934\n"
     ]
    }
   ],
   "source": [
    "An = a\n",
    "\n",
    "c=0.9\n",
    "\n",
    "alpha = 1-c\n",
    "\n",
    "t_alpha = t.ppf(1-(alpha/2), n-2)\n",
    "\n",
    "Sn = SSR/(n-2)\n",
    "San = Sn/(n*np.var(x))\n",
    "\n",
    "\n",
    "borne_inf = An-t_alpha*San**(1/2)\n",
    "borne_sup = An+t_alpha*San**(1/2)\n",
    "\n",
    "a_sup=borne_sup\n",
    "a_inf=borne_inf\n",
    "\n",
    "print(\"Le coefficient directeur β1 a \"+str(c*100)+\"% de chance d'être compris entre \"+str(round(borne_inf,3))+ \" et \"+str(round(borne_sup,3))+\".\\nOn remarque que l'intervalle est cohérent avec la valeur de β1 trouvée avec β1 = \"+str(round(a,3))+\" avec une taille d'intervalle de \"+str(round(borne_sup,3)-round(borne_inf,3)))"
   ]
  },
  {
   "cell_type": "code",
   "execution_count": 108,
   "id": "08cef216",
   "metadata": {},
   "outputs": [
    {
     "name": "stdout",
     "output_type": "stream",
     "text": [
      "L'ordonnée à l'origine β0 a 90.0% de chance d'être compris entre 1.443 et 11.535.\n",
      "On remarque que l'intervalle est cohérent avec la valeur de β0 trouvée avec β0 = 6.489 avec une taille d'intervalle de 10.092\n"
     ]
    }
   ],
   "source": [
    "Bn = b\n",
    "\n",
    "x_square = np.sum(x*x)\n",
    "Sbn = Sn*(x_square/(pow(n,2)*np.var(x)))\n",
    "\n",
    "\n",
    "borne_inf = Bn-t_alpha*Sbn**(1/2)\n",
    "borne_sup = Bn+t_alpha*Sbn**(1/2)\n",
    "\n",
    "b_sup = borne_sup\n",
    "b_inf = borne_inf\n",
    "\n",
    "print(\"L'ordonnée à l'origine β0 a \"+str(c*100)+\"% de chance d'être compris entre \"+str(round(borne_inf,3))+ \" et \"+str(round(borne_sup,3))+\".\\nOn remarque que l'intervalle est cohérent avec la valeur de β0 trouvée avec β0 = \"+str(round(b,3))+\" avec une taille d'intervalle de \"+str(round(borne_sup,3)-round(borne_inf,3)))"
   ]
  },
  {
   "cell_type": "code",
   "execution_count": 109,
   "id": "5552e82e",
   "metadata": {},
   "outputs": [
    {
     "data": {
      "image/png": "[encoded data removed]",
      "text/plain": [
       "<Figure size 1440x720 with 1 Axes>"
      ]
     },
     "metadata": {
      "needs_background": "light"
     },
     "output_type": "display_data"
    }
   ],
   "source": [
    "y_chap_inf,y_chap_sup = [],[]\n",
    "\n",
    "for i in x:\n",
    "    y_chap_inf.append(round(a_inf*i+b_inf,2))\n",
    "    y_chap_sup.append(round(a_sup*i+b_sup,2))\n",
    "    \n",
    "y_chap_inf = np.array(y_chap_inf)\n",
    "y_chap_sup = np.array(y_chap_sup)\n",
    "\n",
    "\n",
    "data_pred['Perruche à collier pred inf']=y_chap_inf\n",
    "data_pred['Perruche à collier pred sup']=y_chap_sup\n",
    "\n",
    "figure(figsize=(20.0, 10.0))\n",
    "plt.title(\" Ecart les résultats du modèle et l'observation avec ajout de l'intervalle de confiance\")\n",
    "\n",
    "plt.scatter(data_pred[min(corr, key=corr.get)], data_pred[\"Perruche à collier\"], color='blue')\n",
    "\n",
    "plt.plot(data_pred[min(corr, key=corr.get)], data_pred[\"Perruche à collier pred\"],color=\"orange\")\n",
    "plt.plot(data_pred[min(corr, key=corr.get)], data_pred[\"Perruche à collier pred inf\"],color=\"red\")\n",
    "plt.plot(data_pred[min(corr, key=corr.get)], data_pred[\"Perruche à collier pred sup\"],color=\"green\")\n",
    "\n",
    "plt.legend(['Prédiction du modèle','Borne inférieure','Borne supérieure'])\n",
    "plt.xlabel(\"Observation des \"+min(corr, key=corr.get))\n",
    "plt.ylabel(\"Observation des perruches\")\n",
    "plt.text(x=0.85, y=25, s=\"R2 = \"+str(round(R2,2))+ \" %\", color=\"red\",size=15)\n",
    "for i in range(data_2.shape[0]):\n",
    "    plt.annotate(ind[i],(data_2[min(corr, key=corr.get)][i], data_2['Perruche à collier'][i]), size=15,\n",
    "         ha=\"center\", va=\"center\",color=\"white\",\n",
    "             bbox=dict(boxstyle=\"square\",\n",
    "                   ec=(1., 0.9, 0.5),\n",
    "                   fc=random_color[i]\n",
    "                   )\n",
    "         )\n",
    "plt.show()"
   ]
  },
  {
   "cell_type": "markdown",
   "id": "ac6cbde4",
   "metadata": {},
   "source": [
    "###  <p style=\"color: blue\">On remarque que la taille des intervalles trouvées à un niveau de confiance de 90% sont très grand ce qui suggère une estimation très peu précise des paramètres du modèle. Visuellement, on constate le même comportement que lorsque l'on avait conçu le modèle avec l'espèce Mésange Charbonnière.</p>"
   ]
  },
  {
   "cell_type": "markdown",
   "id": "34c683df",
   "metadata": {},
   "source": [
    "## 13bis. Evaluez l’hypothèse de pente nulle pour le coefficient β1 et concluez sur l’existence d’une relation linéaire entre les deux variables. Le coefficient β1 est-il significativement non nul ?"
   ]
  },
  {
   "cell_type": "code",
   "execution_count": 110,
   "id": "7e3227d8",
   "metadata": {},
   "outputs": [
    {
     "name": "stdout",
     "output_type": "stream",
     "text": [
      "                            OLS Regression Results                            \n",
      "==============================================================================\n",
      "Dep. Variable:                      y   R-squared:                       0.057\n",
      "Model:                            OLS   Adj. R-squared:                 -0.037\n",
      "Method:                 Least Squares   F-statistic:                    0.6065\n",
      "Date:                Mon, 29 May 2023   Prob (F-statistic):              0.454\n",
      "Time:                        17:14:01   Log-Likelihood:                -36.672\n",
      "No. Observations:                  12   AIC:                             77.34\n",
      "Df Residuals:                      10   BIC:                             78.31\n",
      "Df Model:                           1                                         \n",
      "Covariance Type:            nonrobust                                         \n",
      "==============================================================================\n",
      "                 coef    std err          t      P>|t|       [0.05       0.95]\n",
      "------------------------------------------------------------------------------\n",
      "const          6.4892      2.785      2.330      0.042       1.442      11.536\n",
      "x1             0.8452      1.085      0.779      0.454      -1.122       2.812\n",
      "==============================================================================\n",
      "Omnibus:                        2.783   Durbin-Watson:                   2.590\n",
      "Prob(Omnibus):                  0.249   Jarque-Bera (JB):                1.199\n",
      "Skew:                           0.365   Prob(JB):                        0.549\n",
      "Kurtosis:                       1.635   Cond. No.                         4.86\n",
      "==============================================================================\n",
      "\n",
      "Notes:\n",
      "[1] Standard Errors assume that the covariance matrix of the errors is correctly specified.\n",
      "\n",
      "On accepte H0 donc on rejette H1 au seuil de 5.0%. Donc la probabilité que la pente soit nulle est de  45.41 % ce qui est grand. Dans ce cas ci il n'y a pas de relation linéaire entre les deux variables, et le modèle devient Y = β0.\n"
     ]
    },
    {
     "name": "stderr",
     "output_type": "stream",
     "text": [
      "C:\\Users\\imadr\\anaconda3\\lib\\site-packages\\scipy\\stats\\stats.py:1603: UserWarning: kurtosistest only valid for n>=20 ... continuing anyway, n=12\n",
      "  warnings.warn(\"kurtosistest only valid for n>=20 ... continuing \"\n"
     ]
    }
   ],
   "source": [
    "X = sm.add_constant(x)\n",
    "\n",
    "model = sm.OLS(y, X)\n",
    "\n",
    "results = model.fit()\n",
    "\n",
    "print(results.summary(alpha=0.1))\n",
    "\n",
    "p_value = results.pvalues[1]\n",
    "\n",
    "alpha = 0.05\n",
    "\n",
    "if p_value<alpha:\n",
    "    print(\"\\nOn rejette H0 donc on accepte H1 au seuil de \"+str(alpha*100)+\"%. Donc la probabilité que la pente soit nulle est de \",round(p_value*100,2),\"% ce qui est très faible. Dans ce cas ci on peut affirmer qu'il y'a une relation linéaire entre les deux variables,et que les observations de la \"+max(corr, key=corr.get)+\" explique les apparitions de la perruche.\")\n",
    "else :\n",
    "    print(\"\\nOn accepte H0 donc on rejette H1 au seuil de \"+str(alpha*100)+\"%. Donc la probabilité que la pente soit nulle est de \",round(p_value*100,2),\"% ce qui est grand. Dans ce cas ci il n'y a pas de relation linéaire entre les deux variables, et le modèle devient Y = β0.\")\n"
   ]
  },
  {
   "cell_type": "markdown",
   "id": "ca19a284",
   "metadata": {},
   "source": [
    "###  <p style=\"color: blue\">On accepte H0 donc on rejete H1 au seuil de 5.0%. Donc la probabilité que la pente soit nulle est de  45.41 % ,ce qui est conséquent. Dans ce cas ci il n'y a pas de relation linéaire entre les deux variables, et le modèle devient Y = β0.</p>"
   ]
  },
  {
   "cell_type": "markdown",
   "id": "d782a16e",
   "metadata": {},
   "source": [
    "# <span style=\"color: red\">Régression linéaire multiple</span>"
   ]
  },
  {
   "cell_type": "markdown",
   "id": "c6545dd4",
   "metadata": {},
   "source": [
    "## 15. Combien y a-t-il de combinaisons possibles de variables – en excluant la variable Perruche à collier ? Appliquez une régression linéaire entre la variable cible Perruche à collier et chaque combinaison possible de variables autres. Quelle est la valeur maximale que vous obtenez pour le coefficient de détermination ajusté ? Affichez les variables correspondantes, ainsi que les paramètres βi obtenus. Commentez."
   ]
  },
  {
   "cell_type": "code",
   "execution_count": 111,
   "id": "7fbe8ca5",
   "metadata": {},
   "outputs": [
    {
     "name": "stdout",
     "output_type": "stream",
     "text": [
      "Il y'a  2047  combinaisons possibles.\n"
     ]
    }
   ],
   "source": [
    "# Exclure la variable cible \"Perruche à collier\" du DataFrame\n",
    "variables_predictives = data_2.drop(columns=['Perruche à collier'])\n",
    "\n",
    "# Générer toutes les combinaisons possibles de variables\n",
    "combinaisons = []\n",
    "for r in range(1, len(variables_predictives.columns) + 1):\n",
    "    combinaisons.extend(list(itertools.combinations(variables_predictives.columns, r)))\n",
    "    \n",
    "# Afficher le nombre total de combinaisons\n",
    "nombre_combinaisons = len(combinaisons)\n",
    "print(\"Il y'a \", nombre_combinaisons,\" combinaisons possibles.\")\n"
   ]
  },
  {
   "cell_type": "code",
   "execution_count": 112,
   "id": "405f2f44",
   "metadata": {
    "scrolled": true
   },
   "outputs": [
    {
     "name": "stderr",
     "output_type": "stream",
     "text": [
      "C:\\Users\\imadr\\anaconda3\\lib\\site-packages\\statsmodels\\regression\\linear_model.py:1728: RuntimeWarning: divide by zero encountered in true_divide\n",
      "  return 1 - (np.divide(self.nobs - self.k_constant, self.df_resid)\n",
      "C:\\Users\\imadr\\anaconda3\\lib\\site-packages\\statsmodels\\regression\\linear_model.py:1728: RuntimeWarning: invalid value encountered in double_scalars\n",
      "  return 1 - (np.divide(self.nobs - self.k_constant, self.df_resid)\n"
     ]
    }
   ],
   "source": [
    "# Initialiser une liste pour stocker les résultats\n",
    "resultats_combinaisons = []\n",
    "meilleur_r2 = -1\n",
    "meilleure_combinaison = None\n",
    "meilleure_paramètre = None\n",
    "meilleure_resultat = None\n",
    "# Effectuer la régression linéaire pour chaque combinaison\n",
    "for combinaison in combinaisons:\n",
    "    #Ajout de la constante à la matrice de la combinaison de variables\n",
    "    predictors = sm.add_constant(variables_predictives[list(combinaison)])\n",
    "    \n",
    "    #Application de la régression linéaire entre la variable cible et la combinaison de variable prédictive \n",
    "    modele = sm.OLS(data_2['Perruche à collier'], predictors)\n",
    "    \n",
    "    #Ajustement du modèle\n",
    "    resultats = modele.fit()\n",
    "    \n",
    "    # Extraire les coefficients et le R²\n",
    "    coeffs = resultats.params\n",
    "    r2 = resultats.rsquared_adj\n",
    "    \n",
    "    #recuperation du meilleur r2 avec la combinaison, les coeficient, et le details du résultat associé\n",
    "    if r2 > meilleur_r2:\n",
    "        meilleur_r2 = r2\n",
    "        meilleure_combinaison = combinaison\n",
    "        meilleure_paramètre = coeffs\n",
    "        meilleure_resultat = resultats\n",
    "    \n",
    "    # Ajouter les résultats à la liste\n",
    "    resultats_combinaisons.append((combinaison, coeffs, r2))\n",
    "\n",
    "# Créer un DataFrame à partir des résultats\n",
    "colonnes = ['Combinaison', 'Coefficients', 'R2_adj']\n",
    "df_resultats = pd.DataFrame(resultats_combinaisons, columns=colonnes)\n",
    "\n"
   ]
  },
  {
   "cell_type": "code",
   "execution_count": 113,
   "id": "ee2682c9",
   "metadata": {},
   "outputs": [
    {
     "data": {
      "text/html": [
       "<div>\n",
       "<style scoped>\n",
       "    .dataframe tbody tr th:only-of-type {\n",
       "        vertical-align: middle;\n",
       "    }\n",
       "\n",
       "    .dataframe tbody tr th {\n",
       "        vertical-align: top;\n",
       "    }\n",
       "\n",
       "    .dataframe thead th {\n",
       "        text-align: right;\n",
       "    }\n",
       "</style>\n",
       "<table border=\"1\" class=\"dataframe\">\n",
       "  <thead>\n",
       "    <tr style=\"text-align: right;\">\n",
       "      <th></th>\n",
       "      <th>Combinaison</th>\n",
       "      <th>Coefficients</th>\n",
       "      <th>R2_adj</th>\n",
       "    </tr>\n",
       "  </thead>\n",
       "  <tbody>\n",
       "    <tr>\n",
       "      <th>1996</th>\n",
       "      <td>(Corneille noire, Geai des chênes, Grimpereau ...</td>\n",
       "      <td>const                    -2.535749\n",
       "Corneille n...</td>\n",
       "      <td>0.922714</td>\n",
       "    </tr>\n",
       "    <tr>\n",
       "      <th>2041</th>\n",
       "      <td>(Corneille noire, Geai des chênes, Grimpereau ...</td>\n",
       "      <td>const                    -3.083887\n",
       "Corneille n...</td>\n",
       "      <td>0.905679</td>\n",
       "    </tr>\n",
       "    <tr>\n",
       "      <th>1540</th>\n",
       "      <td>(Corneille noire, Geai des chênes, Grimpereau ...</td>\n",
       "      <td>const                    -1.976852\n",
       "Corneille n...</td>\n",
       "      <td>0.870743</td>\n",
       "    </tr>\n",
       "    <tr>\n",
       "      <th>1835</th>\n",
       "      <td>(Corneille noire, Geai des chênes, Grimpereau ...</td>\n",
       "      <td>const                    -2.579226\n",
       "Corneille n...</td>\n",
       "      <td>0.858645</td>\n",
       "    </tr>\n",
       "    <tr>\n",
       "      <th>2036</th>\n",
       "      <td>(Corneille noire, Geai des chênes, Grimpereau ...</td>\n",
       "      <td>const                    -2.717007\n",
       "Corneille n...</td>\n",
       "      <td>0.846143</td>\n",
       "    </tr>\n",
       "  </tbody>\n",
       "</table>\n",
       "</div>"
      ],
      "text/plain": [
       "                                            Combinaison  \\\n",
       "1996  (Corneille noire, Geai des chênes, Grimpereau ...   \n",
       "2041  (Corneille noire, Geai des chênes, Grimpereau ...   \n",
       "1540  (Corneille noire, Geai des chênes, Grimpereau ...   \n",
       "1835  (Corneille noire, Geai des chênes, Grimpereau ...   \n",
       "2036  (Corneille noire, Geai des chênes, Grimpereau ...   \n",
       "\n",
       "                                           Coefficients    R2_adj  \n",
       "1996  const                    -2.535749\n",
       "Corneille n...  0.922714  \n",
       "2041  const                    -3.083887\n",
       "Corneille n...  0.905679  \n",
       "1540  const                    -1.976852\n",
       "Corneille n...  0.870743  \n",
       "1835  const                    -2.579226\n",
       "Corneille n...  0.858645  \n",
       "2036  const                    -2.717007\n",
       "Corneille n...  0.846143  "
      ]
     },
     "execution_count": 113,
     "metadata": {},
     "output_type": "execute_result"
    }
   ],
   "source": [
    "# Afficher le DataFrame de résultats\n",
    "df_resultats.sort_values(by=[\"R2_adj\"],ascending=False).head()"
   ]
  },
  {
   "cell_type": "code",
   "execution_count": 114,
   "id": "af08b459",
   "metadata": {
    "scrolled": true
   },
   "outputs": [
    {
     "name": "stdout",
     "output_type": "stream",
     "text": [
      "La valeur maximale que l'on obtient pour le R2 ajusté est  92.27 % pour la combinaison de variable : ('Corneille noire', 'Geai des chênes', 'Grimpereau des jardins', 'Merle noir', 'Mésange charbonnière', 'Pie bavarde', 'Pigeon biset', 'Pigeon ramier', 'Troglodyte mignon') .\n",
      "Avec les coefficients valants :\n",
      " const                    -2.535749\n",
      "Corneille noire          -0.747747\n",
      "Geai des chênes          -3.077674\n",
      "Grimpereau des jardins    2.535496\n",
      "Merle noir                0.328449\n",
      "Mésange charbonnière      3.136956\n",
      "Pie bavarde              -2.541204\n",
      "Pigeon biset              1.333985\n",
      "Pigeon ramier             0.165860\n",
      "Troglodyte mignon        -0.845549\n",
      "dtype: float64 .\n"
     ]
    }
   ],
   "source": [
    "print(\"La valeur maximale que l'on obtient pour le R2 ajusté est \",round(meilleur_r2*100,2),\"% pour la combinaison de variable :\",meilleure_combinaison,\".\\nAvec les coefficients valants :\\n\",meilleure_paramètre,\".\")"
   ]
  },
  {
   "cell_type": "code",
   "execution_count": 115,
   "id": "d2cac062",
   "metadata": {},
   "outputs": [
    {
     "name": "stdout",
     "output_type": "stream",
     "text": [
      "92.27 % de la dispersion est expliquée par le modèle de régression. On peut considérer que l'on a expliqué presque parfaitement l'apparition des perruches à l'aide de  9  autres espèces d'oiseaux.\n"
     ]
    }
   ],
   "source": [
    "print(round(meilleur_r2*100,2),\"% de la dispersion est expliquée par le modèle de régression. On peut considérer que l'on a expliqué presque parfaitement l'apparition des perruches à l'aide de \",len(meilleure_combinaison),\" autres espèces d'oiseaux.\")"
   ]
  },
  {
   "cell_type": "markdown",
   "id": "b83cf939",
   "metadata": {},
   "source": [
    "<h3 style=\"color:blue\">Un coefficient de détermination R² ajusté de 0.92 est considéré comme assez élevé et suggère que le modèle de régression linéaire ajusté explique environ 92% de la variance observée dans la variable cible (ici le nombre d'apparitions de la perruche à collier) en utilisant 9 espèces d'oiseaux prédictives.\n",
    "\n",
    "A première vue, cela indique que les neuf espèces d'oiseaux ont une forte corrélation avec la variable cible et qu'elles fournissent des informations significatives pour prédire le nombre d'apparitions de la perruche à collier, mais voyons plus en détails les informations fourni sur ce modèle.</h3>"
   ]
  },
  {
   "cell_type": "code",
   "execution_count": 116,
   "id": "44969908",
   "metadata": {
    "scrolled": false
   },
   "outputs": [
    {
     "name": "stderr",
     "output_type": "stream",
     "text": [
      "C:\\Users\\imadr\\anaconda3\\lib\\site-packages\\scipy\\stats\\stats.py:1603: UserWarning: kurtosistest only valid for n>=20 ... continuing anyway, n=12\n",
      "  warnings.warn(\"kurtosistest only valid for n>=20 ... continuing \"\n"
     ]
    },
    {
     "data": {
      "text/html": [
       "<table class=\"simpletable\">\n",
       "<caption>OLS Regression Results</caption>\n",
       "<tr>\n",
       "  <th>Dep. Variable:</th>    <td>Perruche à collier</td> <th>  R-squared:         </th> <td>   0.986</td>\n",
       "</tr>\n",
       "<tr>\n",
       "  <th>Model:</th>                    <td>OLS</td>        <th>  Adj. R-squared:    </th> <td>   0.923</td>\n",
       "</tr>\n",
       "<tr>\n",
       "  <th>Method:</th>              <td>Least Squares</td>   <th>  F-statistic:       </th> <td>   15.59</td>\n",
       "</tr>\n",
       "<tr>\n",
       "  <th>Date:</th>              <td>Mon, 29 May 2023</td>  <th>  Prob (F-statistic):</th>  <td>0.0617</td> \n",
       "</tr>\n",
       "<tr>\n",
       "  <th>Time:</th>                  <td>17:14:31</td>      <th>  Log-Likelihood:    </th> <td> -11.435</td>\n",
       "</tr>\n",
       "<tr>\n",
       "  <th>No. Observations:</th>       <td>    12</td>       <th>  AIC:               </th> <td>   42.87</td>\n",
       "</tr>\n",
       "<tr>\n",
       "  <th>Df Residuals:</th>           <td>     2</td>       <th>  BIC:               </th> <td>   47.72</td>\n",
       "</tr>\n",
       "<tr>\n",
       "  <th>Df Model:</th>               <td>     9</td>       <th>                     </th>     <td> </td>   \n",
       "</tr>\n",
       "<tr>\n",
       "  <th>Covariance Type:</th>       <td>nonrobust</td>     <th>                     </th>     <td> </td>   \n",
       "</tr>\n",
       "</table>\n",
       "<table class=\"simpletable\">\n",
       "<tr>\n",
       "             <td></td>               <th>coef</th>     <th>std err</th>      <th>t</th>      <th>P>|t|</th>   <th>[0.05</th>     <th>0.95]</th>  \n",
       "</tr>\n",
       "<tr>\n",
       "  <th>const</th>                  <td>   -2.5357</td> <td>    1.481</td> <td>   -1.712</td> <td> 0.229</td> <td>   -6.861</td> <td>    1.789</td>\n",
       "</tr>\n",
       "<tr>\n",
       "  <th>Corneille noire</th>        <td>   -0.7477</td> <td>    0.171</td> <td>   -4.381</td> <td> 0.048</td> <td>   -1.246</td> <td>   -0.249</td>\n",
       "</tr>\n",
       "<tr>\n",
       "  <th>Geai des chênes</th>        <td>   -3.0777</td> <td>    0.916</td> <td>   -3.362</td> <td> 0.078</td> <td>   -5.751</td> <td>   -0.404</td>\n",
       "</tr>\n",
       "<tr>\n",
       "  <th>Grimpereau des jardins</th> <td>    2.5355</td> <td>    0.688</td> <td>    3.686</td> <td> 0.066</td> <td>    0.527</td> <td>    4.544</td>\n",
       "</tr>\n",
       "<tr>\n",
       "  <th>Merle noir</th>             <td>    0.3284</td> <td>    0.156</td> <td>    2.102</td> <td> 0.170</td> <td>   -0.128</td> <td>    0.785</td>\n",
       "</tr>\n",
       "<tr>\n",
       "  <th>Mésange charbonnière</th>   <td>    3.1370</td> <td>    0.685</td> <td>    4.579</td> <td> 0.045</td> <td>    1.137</td> <td>    5.137</td>\n",
       "</tr>\n",
       "<tr>\n",
       "  <th>Pie bavarde</th>            <td>   -2.5412</td> <td>    0.667</td> <td>   -3.810</td> <td> 0.063</td> <td>   -4.489</td> <td>   -0.594</td>\n",
       "</tr>\n",
       "<tr>\n",
       "  <th>Pigeon biset</th>           <td>    1.3340</td> <td>    0.283</td> <td>    4.709</td> <td> 0.042</td> <td>    0.507</td> <td>    2.161</td>\n",
       "</tr>\n",
       "<tr>\n",
       "  <th>Pigeon ramier</th>          <td>    0.1659</td> <td>    0.065</td> <td>    2.541</td> <td> 0.126</td> <td>   -0.025</td> <td>    0.356</td>\n",
       "</tr>\n",
       "<tr>\n",
       "  <th>Troglodyte mignon</th>      <td>   -0.8455</td> <td>    0.453</td> <td>   -1.867</td> <td> 0.203</td> <td>   -2.168</td> <td>    0.477</td>\n",
       "</tr>\n",
       "</table>\n",
       "<table class=\"simpletable\">\n",
       "<tr>\n",
       "  <th>Omnibus:</th>       <td> 0.968</td> <th>  Durbin-Watson:     </th> <td>   2.048</td>\n",
       "</tr>\n",
       "<tr>\n",
       "  <th>Prob(Omnibus):</th> <td> 0.616</td> <th>  Jarque-Bera (JB):  </th> <td>   0.241</td>\n",
       "</tr>\n",
       "<tr>\n",
       "  <th>Skew:</th>          <td> 0.347</td> <th>  Prob(JB):          </th> <td>   0.886</td>\n",
       "</tr>\n",
       "<tr>\n",
       "  <th>Kurtosis:</th>      <td> 2.962</td> <th>  Cond. No.          </th> <td>    117.</td>\n",
       "</tr>\n",
       "</table><br/><br/>Notes:<br/>[1] Standard Errors assume that the covariance matrix of the errors is correctly specified."
      ],
      "text/plain": [
       "<class 'statsmodels.iolib.summary.Summary'>\n",
       "\"\"\"\n",
       "                            OLS Regression Results                            \n",
       "==============================================================================\n",
       "Dep. Variable:     Perruche à collier   R-squared:                       0.986\n",
       "Model:                            OLS   Adj. R-squared:                  0.923\n",
       "Method:                 Least Squares   F-statistic:                     15.59\n",
       "Date:                Mon, 29 May 2023   Prob (F-statistic):             0.0617\n",
       "Time:                        17:14:31   Log-Likelihood:                -11.435\n",
       "No. Observations:                  12   AIC:                             42.87\n",
       "Df Residuals:                       2   BIC:                             47.72\n",
       "Df Model:                           9                                         \n",
       "Covariance Type:            nonrobust                                         \n",
       "==========================================================================================\n",
       "                             coef    std err          t      P>|t|       [0.05       0.95]\n",
       "------------------------------------------------------------------------------------------\n",
       "const                     -2.5357      1.481     -1.712      0.229      -6.861       1.789\n",
       "Corneille noire           -0.7477      0.171     -4.381      0.048      -1.246      -0.249\n",
       "Geai des chênes           -3.0777      0.916     -3.362      0.078      -5.751      -0.404\n",
       "Grimpereau des jardins     2.5355      0.688      3.686      0.066       0.527       4.544\n",
       "Merle noir                 0.3284      0.156      2.102      0.170      -0.128       0.785\n",
       "Mésange charbonnière       3.1370      0.685      4.579      0.045       1.137       5.137\n",
       "Pie bavarde               -2.5412      0.667     -3.810      0.063      -4.489      -0.594\n",
       "Pigeon biset               1.3340      0.283      4.709      0.042       0.507       2.161\n",
       "Pigeon ramier              0.1659      0.065      2.541      0.126      -0.025       0.356\n",
       "Troglodyte mignon         -0.8455      0.453     -1.867      0.203      -2.168       0.477\n",
       "==============================================================================\n",
       "Omnibus:                        0.968   Durbin-Watson:                   2.048\n",
       "Prob(Omnibus):                  0.616   Jarque-Bera (JB):                0.241\n",
       "Skew:                           0.347   Prob(JB):                        0.886\n",
       "Kurtosis:                       2.962   Cond. No.                         117.\n",
       "==============================================================================\n",
       "\n",
       "Notes:\n",
       "[1] Standard Errors assume that the covariance matrix of the errors is correctly specified.\n",
       "\"\"\""
      ]
     },
     "execution_count": 116,
     "metadata": {},
     "output_type": "execute_result"
    }
   ],
   "source": [
    "#Regardons en détails pour la meilleure combinaison les résultats\n",
    "meilleure_resultat.summary(alpha=0.1)"
   ]
  },
  {
   "cell_type": "markdown",
   "id": "b5be5ede",
   "metadata": {},
   "source": [
    "<h3 style=\"color:blue\">On remarque que la p-value de Fischer est de 0.062 donc on 6,17% de chance à ce que tous les coefficients soient nulle ce qui est supérieur à notre seuil de confirmation de $\\alpha$=5 %. Cela signifie qu'il n'y a pas suffisamment de preuves statistiques pour conclure que la relation entre les variables est bel et bien linéaire. En plus de cela, la plupart des p-value associées au test d'hypothèse de la pente nulle pour chaque paramètre et au dessus du seuil de signification de 5%. Malgré un R2 presque parfait, certains arguments nous font douter de la qualité du modèle.</h3>"
   ]
  },
  {
   "cell_type": "markdown",
   "id": "e74e2484",
   "metadata": {},
   "source": [
    "<h1>16. Déterminez expérimentalement le nombre de modèles pour lesquels on observe une\n",
    "relation linéaire entre la variable cible et les autres variables sélectionnées. Reprenez la\n",
    "question 15 en considérant uniquement ces modèles.</h1>"
   ]
  },
  {
   "cell_type": "code",
   "execution_count": 117,
   "id": "6afa8cf7",
   "metadata": {},
   "outputs": [
    {
     "name": "stdout",
     "output_type": "stream",
     "text": [
      "Nombre de modèles avec une relation linéaire significative : 455\n"
     ]
    }
   ],
   "source": [
    "# Initialiser une liste pour stocker les résultats\n",
    "resultats_combinaisons = []\n",
    "\n",
    "\n",
    "# Effectuer la régression linéaire pour chaque combinaison\n",
    "for combinaison in combinaisons:\n",
    "    # Ajout de la constante à la matrice de la combinaison de variables\n",
    "    variables_predictives = data[list(combinaison)]\n",
    "    predictors = sm.add_constant(variables_predictives)\n",
    "\n",
    "    # Application de la régression linéaire entre la variable cible et la combinaison de variables prédictives\n",
    "    modele = sm.OLS(data_2['Perruche à collier'], predictors)\n",
    "\n",
    "    # Ajustement du modèle\n",
    "    resultats = modele.fit()\n",
    "\n",
    "    # Vérifier si le modèle présente une relation linéaire significative\n",
    "    #p_values = resultats.pvalues.drop('const')  # Exclure la constante\n",
    "    f_stat = resultats.f_pvalue\n",
    "    \n",
    "    if (f_stat < alpha) :\n",
    "        # Ajouter les résultats à la liste\n",
    "        resultats_combinaisons.append((combinaison, resultats.params, resultats.rsquared_adj,resultats.f_pvalue,resultats.pvalues))\n",
    "\n",
    "# Nombre de modèles avec une relation linéaire significative\n",
    "nb_modeles_significatifs = len(resultats_combinaisons)\n",
    "\n",
    "# Créer un DataFrame à partir des résultats\n",
    "colonnes = ['Combinaison', 'Coefficients', 'R2_adj', 'Fischer_stat','P_value']\n",
    "df_resultats = pd.DataFrame(resultats_combinaisons, columns=colonnes)\n",
    "\n",
    "# Afficher le nombre de modèles avec une relation linéaire significative\n",
    "print(\"Nombre de modèles avec une relation linéaire significative :\", nb_modeles_significatifs)"
   ]
  },
  {
   "cell_type": "code",
   "execution_count": 118,
   "id": "759fafc9",
   "metadata": {},
   "outputs": [
    {
     "data": {
      "text/html": [
       "<div>\n",
       "<style scoped>\n",
       "    .dataframe tbody tr th:only-of-type {\n",
       "        vertical-align: middle;\n",
       "    }\n",
       "\n",
       "    .dataframe tbody tr th {\n",
       "        vertical-align: top;\n",
       "    }\n",
       "\n",
       "    .dataframe thead th {\n",
       "        text-align: right;\n",
       "    }\n",
       "</style>\n",
       "<table border=\"1\" class=\"dataframe\">\n",
       "  <thead>\n",
       "    <tr style=\"text-align: right;\">\n",
       "      <th></th>\n",
       "      <th>Combinaison</th>\n",
       "      <th>Coefficients</th>\n",
       "      <th>R2_adj</th>\n",
       "      <th>Fischer_stat</th>\n",
       "      <th>P_value</th>\n",
       "    </tr>\n",
       "  </thead>\n",
       "  <tbody>\n",
       "    <tr>\n",
       "      <th>451</th>\n",
       "      <td>(Corneille noire, Geai des chênes, Grimpereau ...</td>\n",
       "      <td>const                    -1.976852\n",
       "Corneille n...</td>\n",
       "      <td>0.870743</td>\n",
       "      <td>0.016071</td>\n",
       "      <td>const                     0.328686\n",
       "Corneille n...</td>\n",
       "    </tr>\n",
       "    <tr>\n",
       "      <th>454</th>\n",
       "      <td>(Corneille noire, Geai des chênes, Grimpereau ...</td>\n",
       "      <td>const                    -2.579226\n",
       "Corneille n...</td>\n",
       "      <td>0.858645</td>\n",
       "      <td>0.046321</td>\n",
       "      <td>const                     0.288173\n",
       "Corneille n...</td>\n",
       "    </tr>\n",
       "    <tr>\n",
       "      <th>453</th>\n",
       "      <td>(Corneille noire, Geai des chênes, Mésange ble...</td>\n",
       "      <td>const                 -6.071198\n",
       "Corneille noir...</td>\n",
       "      <td>0.795950</td>\n",
       "      <td>0.038217</td>\n",
       "      <td>const                  0.053085\n",
       "Corneille noir...</td>\n",
       "    </tr>\n",
       "    <tr>\n",
       "      <th>428</th>\n",
       "      <td>(Corneille noire, Geai des chênes, Grimpereau ...</td>\n",
       "      <td>const                    -0.300348\n",
       "Corneille n...</td>\n",
       "      <td>0.778445</td>\n",
       "      <td>0.021842</td>\n",
       "      <td>const                     0.891350\n",
       "Corneille n...</td>\n",
       "    </tr>\n",
       "    <tr>\n",
       "      <th>452</th>\n",
       "      <td>(Corneille noire, Geai des chênes, Grimpereau ...</td>\n",
       "      <td>const                    -0.087544\n",
       "Corneille n...</td>\n",
       "      <td>0.770989</td>\n",
       "      <td>0.047384</td>\n",
       "      <td>const                     0.969296\n",
       "Corneille n...</td>\n",
       "    </tr>\n",
       "  </tbody>\n",
       "</table>\n",
       "</div>"
      ],
      "text/plain": [
       "                                           Combinaison  \\\n",
       "451  (Corneille noire, Geai des chênes, Grimpereau ...   \n",
       "454  (Corneille noire, Geai des chênes, Grimpereau ...   \n",
       "453  (Corneille noire, Geai des chênes, Mésange ble...   \n",
       "428  (Corneille noire, Geai des chênes, Grimpereau ...   \n",
       "452  (Corneille noire, Geai des chênes, Grimpereau ...   \n",
       "\n",
       "                                          Coefficients    R2_adj  \\\n",
       "451  const                    -1.976852\n",
       "Corneille n...  0.870743   \n",
       "454  const                    -2.579226\n",
       "Corneille n...  0.858645   \n",
       "453  const                 -6.071198\n",
       "Corneille noir...  0.795950   \n",
       "428  const                    -0.300348\n",
       "Corneille n...  0.778445   \n",
       "452  const                    -0.087544\n",
       "Corneille n...  0.770989   \n",
       "\n",
       "     Fischer_stat                                            P_value  \n",
       "451      0.016071  const                     0.328686\n",
       "Corneille n...  \n",
       "454      0.046321  const                     0.288173\n",
       "Corneille n...  \n",
       "453      0.038217  const                  0.053085\n",
       "Corneille noir...  \n",
       "428      0.021842  const                     0.891350\n",
       "Corneille n...  \n",
       "452      0.047384  const                     0.969296\n",
       "Corneille n...  "
      ]
     },
     "execution_count": 118,
     "metadata": {},
     "output_type": "execute_result"
    }
   ],
   "source": [
    "df_resultats.sort_values(by=[\"R2_adj\"],ascending=False).head()"
   ]
  },
  {
   "cell_type": "code",
   "execution_count": 119,
   "id": "e668b099",
   "metadata": {},
   "outputs": [
    {
     "name": "stdout",
     "output_type": "stream",
     "text": [
      "87.07 % de la variance des observations des perruches est expliquée par les observations des espèces : ('Corneille noire', 'Geai des chênes', 'Grimpereau des jardins', 'Mésange charbonnière', 'Pie bavarde', 'Pigeon biset', 'Pigeon ramier') .\n",
      "En plus de cela on a une p-value de Fischer de  1.61 % donc on peut affirmer une relation linéaire entre les variables au seuil de signification de  5 %.\n"
     ]
    }
   ],
   "source": [
    "# Trouver l'index de la ligne avec le R2 max\n",
    "index_max = df_resultats['R2_adj'].idxmax()\n",
    "\n",
    "# Récupérer la ligne correspondante du DataFrame\n",
    "print(round(df_resultats['R2_adj'][index_max]*100,2),\"% de la variance des observations des perruches est expliquée par les observations des espèces :\",df_resultats['Combinaison'][index_max],\".\\nEn plus de cela on a une p-value de Fischer de \",round(df_resultats['Fischer_stat'][index_max]*100,2),\"% donc on peut affirmer une relation linéaire entre les variables au seuil de signification de \",round(alpha*100),\"%.\")"
   ]
  },
  {
   "cell_type": "markdown",
   "id": "96cbca0d",
   "metadata": {},
   "source": [
    "### <p style=\"color:blue\">Pour la question 15, le meilleur modèle n'était défini que par son R2. Toutefois, on note que même si l'on obtenait un  R2 de 92%, la p-value de Fischer valait 6.17% qui est au dessus du seuil de signification de 5% donc on pouvait avoir des doutes sur la qualité du modèle. Dorénavant, on prend cette statistique en considération et on rajoute 2 conditions au choix de la qualité du modèle et nous obtenons un modèle qui a un R2 qui explique 87,07% de la variance des observations de la Perruche à l'aide de 7 autres espèces avec une p-value de Fischer de 1.6%. On peut affirmer que c'est le meilleur modèle selon les conditions que nous nous sommes fixées.</p>"
   ]
  }
 ],
 "metadata": {
  "kernelspec": {
   "display_name": "Python 3",
   "language": "python",
   "name": "python3"
  },
  "language_info": {
   "codemirror_mode": {
    "name": "ipython",
    "version": 3
   },
   "file_extension": ".py",
   "mimetype": "text/x-python",
   "name": "python",
   "nbconvert_exporter": "python",
   "pygments_lexer": "ipython3",
   "version": "3.8.8"
  },
  "toc": {
   "base_numbering": 1,
   "nav_menu": {},
   "number_sections": false,
   "sideBar": true,
   "skip_h1_title": false,
   "title_cell": "Table of Contents",
   "title_sidebar": "Contents",
   "toc_cell": false,
   "toc_position": {
    "height": "calc(100% - 180px)",
    "left": "10px",
    "top": "150px",
    "width": "212px"
   },
   "toc_section_display": true,
   "toc_window_display": false
  }
 },
 "nbformat": 4,
 "nbformat_minor": 5
}
